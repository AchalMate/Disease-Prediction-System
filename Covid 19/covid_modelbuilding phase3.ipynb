{
 "cells": [
  {
   "cell_type": "code",
   "execution_count": 4,
   "id": "2bd97c0b",
   "metadata": {},
   "outputs": [],
   "source": [
    "import pandas as pd\n",
    "import numpy as np\n",
    "\n",
    "import seaborn as sns\n",
    "import matplotlib.pyplot as plt\n",
    "%matplotlib inline\n",
    "\n",
    "import time\n",
    "import warnings\n",
    "warnings.filterwarnings(\"ignore\")\n",
    "\n",
    "from imblearn.over_sampling import SMOTE\n",
    "from collections import Counter\n",
    "\n",
    "from sklearn.ensemble import ExtraTreesClassifier\n",
    "from statsmodels.stats.outliers_influence import variance_inflation_factor\n",
    "from sklearn.model_selection import train_test_split\n",
    "from sklearn.linear_model import LogisticRegression\n",
    "from sklearn.feature_selection import RFE\n",
    "import statsmodels.api as sm\n",
    "\n",
    "from sklearn import metrics\n",
    "from sklearn.metrics import confusion_matrix, classification_report\n",
    "from sklearn.metrics import cohen_kappa_score, roc_auc_score, precision_recall_curve,accuracy_score\n",
    "from sklearn.metrics import roc_curve, auc\n",
    "from sklearn.metrics import log_loss\n",
    "\n",
    "\n",
    "from sklearn.linear_model import LogisticRegression\n",
    "from sklearn.naive_bayes import GaussianNB\n",
    "from sklearn.naive_bayes import BernoulliNB\n",
    "\n",
    "from sklearn.svm import SVC\n",
    "from sklearn.tree import DecisionTreeClassifier\n",
    "from sklearn.ensemble import RandomForestClassifier\n",
    "from sklearn.ensemble import VotingClassifier\n",
    "from sklearn.ensemble import BaggingClassifier\n",
    "from sklearn.ensemble import GradientBoostingClassifier\n",
    "from sklearn.ensemble import AdaBoostClassifier\n",
    "import xgboost\n",
    "from xgboost import XGBClassifier\n",
    "\n",
    "\n"
   ]
  },
  {
   "cell_type": "code",
   "execution_count": 2,
   "id": "457491eb",
   "metadata": {},
   "outputs": [],
   "source": [
    "df = pd.read_csv('covid_data_balanced_final.csv')"
   ]
  },
  {
   "cell_type": "code",
   "execution_count": 3,
   "id": "afd6397b",
   "metadata": {},
   "outputs": [
    {
     "data": {
      "text/html": [
       "<div>\n",
       "<style scoped>\n",
       "    .dataframe tbody tr th:only-of-type {\n",
       "        vertical-align: middle;\n",
       "    }\n",
       "\n",
       "    .dataframe tbody tr th {\n",
       "        vertical-align: top;\n",
       "    }\n",
       "\n",
       "    .dataframe thead th {\n",
       "        text-align: right;\n",
       "    }\n",
       "</style>\n",
       "<table border=\"1\" class=\"dataframe\">\n",
       "  <thead>\n",
       "    <tr style=\"text-align: right;\">\n",
       "      <th></th>\n",
       "      <th>cough</th>\n",
       "      <th>fever</th>\n",
       "      <th>sore_throat</th>\n",
       "      <th>shortness_of_breath</th>\n",
       "      <th>head_ache</th>\n",
       "      <th>corona_result</th>\n",
       "    </tr>\n",
       "  </thead>\n",
       "  <tbody>\n",
       "    <tr>\n",
       "      <th>0</th>\n",
       "      <td>0</td>\n",
       "      <td>0</td>\n",
       "      <td>0</td>\n",
       "      <td>0</td>\n",
       "      <td>0</td>\n",
       "      <td>0</td>\n",
       "    </tr>\n",
       "    <tr>\n",
       "      <th>1</th>\n",
       "      <td>0</td>\n",
       "      <td>0</td>\n",
       "      <td>0</td>\n",
       "      <td>0</td>\n",
       "      <td>0</td>\n",
       "      <td>0</td>\n",
       "    </tr>\n",
       "    <tr>\n",
       "      <th>2</th>\n",
       "      <td>0</td>\n",
       "      <td>0</td>\n",
       "      <td>0</td>\n",
       "      <td>0</td>\n",
       "      <td>0</td>\n",
       "      <td>0</td>\n",
       "    </tr>\n",
       "    <tr>\n",
       "      <th>3</th>\n",
       "      <td>0</td>\n",
       "      <td>0</td>\n",
       "      <td>0</td>\n",
       "      <td>0</td>\n",
       "      <td>0</td>\n",
       "      <td>0</td>\n",
       "    </tr>\n",
       "    <tr>\n",
       "      <th>4</th>\n",
       "      <td>0</td>\n",
       "      <td>0</td>\n",
       "      <td>0</td>\n",
       "      <td>0</td>\n",
       "      <td>0</td>\n",
       "      <td>0</td>\n",
       "    </tr>\n",
       "  </tbody>\n",
       "</table>\n",
       "</div>"
      ],
      "text/plain": [
       "   cough  fever  sore_throat  shortness_of_breath  head_ache  corona_result\n",
       "0      0      0            0                    0          0              0\n",
       "1      0      0            0                    0          0              0\n",
       "2      0      0            0                    0          0              0\n",
       "3      0      0            0                    0          0              0\n",
       "4      0      0            0                    0          0              0"
      ]
     },
     "execution_count": 3,
     "metadata": {},
     "output_type": "execute_result"
    }
   ],
   "source": [
    "df.head()"
   ]
  },
  {
   "cell_type": "code",
   "execution_count": 4,
   "id": "9316433a",
   "metadata": {},
   "outputs": [
    {
     "data": {
      "text/plain": [
       "(3754565, 6)"
      ]
     },
     "execution_count": 4,
     "metadata": {},
     "output_type": "execute_result"
    }
   ],
   "source": [
    "df.shape\n"
   ]
  },
  {
   "cell_type": "code",
   "execution_count": 5,
   "id": "842956c6",
   "metadata": {},
   "outputs": [
    {
     "data": {
      "text/plain": [
       "0    2013800\n",
       "1    1740765\n",
       "Name: corona_result, dtype: int64"
      ]
     },
     "execution_count": 5,
     "metadata": {},
     "output_type": "execute_result"
    }
   ],
   "source": [
    "df.corona_result.value_counts()"
   ]
  },
  {
   "cell_type": "code",
   "execution_count": null,
   "id": "1f483e76",
   "metadata": {},
   "outputs": [],
   "source": []
  },
  {
   "cell_type": "code",
   "execution_count": null,
   "id": "3bbc0636",
   "metadata": {},
   "outputs": [],
   "source": []
  },
  {
   "cell_type": "code",
   "execution_count": null,
   "id": "e250ad68",
   "metadata": {},
   "outputs": [],
   "source": []
  },
  {
   "cell_type": "markdown",
   "id": "bb191810",
   "metadata": {},
   "source": [
    "# Model Building"
   ]
  },
  {
   "cell_type": "code",
   "execution_count": 6,
   "id": "1a806674",
   "metadata": {},
   "outputs": [],
   "source": [
    "X = df.drop('corona_result',axis=1)\n",
    "y = df['corona_result']"
   ]
  },
  {
   "cell_type": "code",
   "execution_count": 7,
   "id": "2306bc6d",
   "metadata": {},
   "outputs": [
    {
     "data": {
      "text/html": [
       "<div>\n",
       "<style scoped>\n",
       "    .dataframe tbody tr th:only-of-type {\n",
       "        vertical-align: middle;\n",
       "    }\n",
       "\n",
       "    .dataframe tbody tr th {\n",
       "        vertical-align: top;\n",
       "    }\n",
       "\n",
       "    .dataframe thead th {\n",
       "        text-align: right;\n",
       "    }\n",
       "</style>\n",
       "<table border=\"1\" class=\"dataframe\">\n",
       "  <thead>\n",
       "    <tr style=\"text-align: right;\">\n",
       "      <th></th>\n",
       "      <th>cough</th>\n",
       "      <th>fever</th>\n",
       "      <th>sore_throat</th>\n",
       "      <th>shortness_of_breath</th>\n",
       "      <th>head_ache</th>\n",
       "    </tr>\n",
       "  </thead>\n",
       "  <tbody>\n",
       "    <tr>\n",
       "      <th>0</th>\n",
       "      <td>0</td>\n",
       "      <td>0</td>\n",
       "      <td>0</td>\n",
       "      <td>0</td>\n",
       "      <td>0</td>\n",
       "    </tr>\n",
       "    <tr>\n",
       "      <th>1</th>\n",
       "      <td>0</td>\n",
       "      <td>0</td>\n",
       "      <td>0</td>\n",
       "      <td>0</td>\n",
       "      <td>0</td>\n",
       "    </tr>\n",
       "    <tr>\n",
       "      <th>2</th>\n",
       "      <td>0</td>\n",
       "      <td>0</td>\n",
       "      <td>0</td>\n",
       "      <td>0</td>\n",
       "      <td>0</td>\n",
       "    </tr>\n",
       "    <tr>\n",
       "      <th>3</th>\n",
       "      <td>0</td>\n",
       "      <td>0</td>\n",
       "      <td>0</td>\n",
       "      <td>0</td>\n",
       "      <td>0</td>\n",
       "    </tr>\n",
       "    <tr>\n",
       "      <th>4</th>\n",
       "      <td>0</td>\n",
       "      <td>0</td>\n",
       "      <td>0</td>\n",
       "      <td>0</td>\n",
       "      <td>0</td>\n",
       "    </tr>\n",
       "  </tbody>\n",
       "</table>\n",
       "</div>"
      ],
      "text/plain": [
       "   cough  fever  sore_throat  shortness_of_breath  head_ache\n",
       "0      0      0            0                    0          0\n",
       "1      0      0            0                    0          0\n",
       "2      0      0            0                    0          0\n",
       "3      0      0            0                    0          0\n",
       "4      0      0            0                    0          0"
      ]
     },
     "execution_count": 7,
     "metadata": {},
     "output_type": "execute_result"
    }
   ],
   "source": [
    "X.head()"
   ]
  },
  {
   "cell_type": "code",
   "execution_count": 8,
   "id": "73bb8199",
   "metadata": {},
   "outputs": [
    {
     "data": {
      "text/plain": [
       "0    0\n",
       "1    0\n",
       "2    0\n",
       "3    0\n",
       "4    0\n",
       "Name: corona_result, dtype: int64"
      ]
     },
     "execution_count": 8,
     "metadata": {},
     "output_type": "execute_result"
    }
   ],
   "source": [
    "y.head()"
   ]
  },
  {
   "cell_type": "code",
   "execution_count": 9,
   "id": "45f19fca",
   "metadata": {},
   "outputs": [
    {
     "data": {
      "text/plain": [
       "((2628195, 5), (1126370, 5), (2628195,), (1126370,))"
      ]
     },
     "execution_count": 9,
     "metadata": {},
     "output_type": "execute_result"
    }
   ],
   "source": [
    "X_train,X_test,y_train,y_test = train_test_split(X,y,train_size=0.7,random_state=42)\n",
    "X_train.shape,X_test.shape,y_train.shape,y_test.shape"
   ]
  },
  {
   "cell_type": "code",
   "execution_count": null,
   "id": "eb5a94d4",
   "metadata": {},
   "outputs": [],
   "source": []
  },
  {
   "cell_type": "code",
   "execution_count": null,
   "id": "ff8ee7e0",
   "metadata": {},
   "outputs": [],
   "source": []
  },
  {
   "cell_type": "code",
   "execution_count": null,
   "id": "16787752",
   "metadata": {},
   "outputs": [],
   "source": []
  },
  {
   "cell_type": "code",
   "execution_count": 11,
   "id": "e7bfd55b",
   "metadata": {},
   "outputs": [
    {
     "data": {
      "text/plain": [
       "LogisticRegression()"
      ]
     },
     "execution_count": 11,
     "metadata": {},
     "output_type": "execute_result"
    }
   ],
   "source": [
    "logistic_model = LogisticRegression()\n",
    "logistic_model.fit(X_train,y_train)"
   ]
  },
  {
   "cell_type": "code",
   "execution_count": 36,
   "id": "af577c78",
   "metadata": {},
   "outputs": [],
   "source": [
    "y_train_pred = logistic_model.predict(X_train)\n",
    "y_train_pred_prob = logistic_model.predict_proba(X_train)[:,1]\n",
    "\n",
    "y_test_pred = logistic_model.predict(X_test)\n",
    "y_test_pred_prob = logistic_model.predict_proba(X_test)[:,1]\n"
   ]
  },
  {
   "cell_type": "code",
   "execution_count": 44,
   "id": "c5f872dc",
   "metadata": {},
   "outputs": [
    {
     "data": {
      "image/png": "[encoded data removed]",
      "text/plain": [
       "<Figure size 1080x720 with 1 Axes>"
      ]
     },
     "metadata": {
      "needs_background": "light"
     },
     "output_type": "display_data"
    },
    {
     "name": "stdout",
     "output_type": "stream",
     "text": [
      "******************************Classifcation Report******************************\n",
      "\n",
      "\n",
      "              precision    recall  f1-score   support\n",
      "\n",
      "           0       0.92      0.97      0.94    604274\n",
      "           1       0.96      0.90      0.93    522096\n",
      "\n",
      "    accuracy                           0.94   1126370\n",
      "   macro avg       0.94      0.94      0.94   1126370\n",
      "weighted avg       0.94      0.94      0.94   1126370\n",
      "\n",
      "\n",
      "************************************Kappa Score************************************\n",
      "\n",
      "\n",
      "Kappa Score = 0.8762788721212337\n",
      "\n",
      "******************************Area Under Curve Score******************************\n",
      "\n",
      "\n",
      "AUC Score = 0.9361860597527305\n",
      "Number of probabilities to build ROC = 33\n"
     ]
    },
    {
     "data": {
      "image/png": "[encoded data removed]",
      "text/plain": [
       "<Figure size 576x360 with 1 Axes>"
      ]
     },
     "metadata": {
      "needs_background": "light"
     },
     "output_type": "display_data"
    }
   ],
   "source": [
    "cm = confusion_matrix(y_test,y_test_pred)\n",
    "row_sum = cm.sum(axis=0)\n",
    "cm = np.append(cm,row_sum.reshape(1,-1),axis=0)\n",
    "col_sum = cm.sum(axis=1)\n",
    "cm = np.append(cm,col_sum.reshape(-1,1),axis=1)\n",
    "\n",
    "plt.figure(figsize=(15,10))\n",
    "sns.heatmap(cm,annot=True,cmap='summer',fmt='0.2f',xticklabels=labels,\n",
    "                yticklabels=labels,linewidths=3,cbar=None,)\n",
    "\n",
    "plt.xlabel('Predicted Values')\n",
    "plt.ylabel('Actual Values')\n",
    "plt.title('Confusion Matrix')\n",
    "plt.show()\n",
    "    \n",
    "print('*'*30+'Classifcation Report'+'*'*30+'\\n\\n')\n",
    "cr = classification_report(y_test,y_test_pred)\n",
    "print(cr)\n",
    "    \n",
    "print('\\n'+'*'*36+'Kappa Score'+'*'*36+'\\n\\n')\n",
    "    # Kappa score\n",
    "kappa = cohen_kappa_score(y_test,y_test_pred) # Kappa Score\n",
    "print('Kappa Score =',kappa)\n",
    "    \n",
    "print('\\n'+'*'*30+'Area Under Curve Score'+'*'*30+'\\n\\n')\n",
    "    # Kappa score\n",
    "roc_a = roc_auc_score(y_test,y_test_pred) # Kappa Score\n",
    "print('AUC Score =',roc_a)\n",
    "    \n",
    "    # ROC\n",
    "plt.figure(figsize=(8,5))\n",
    "fpr,tpr, thresh = roc_curve(y_test,y_test_pred_prob)\n",
    "plt.plot(fpr,tpr,'r')\n",
    "print('Number of probabilities to build ROC =',len(fpr))\n",
    "verbose = True\n",
    "n=10\n",
    "if verbose == True:\n",
    "    for i in range(len(thresh)):\n",
    "        if i%n == 0:\n",
    "            plt.text(fpr[i],tpr[i],'%0.2f'%thresh[i])\n",
    "            plt.plot(fpr[i],tpr[i],'v')\n",
    "\n",
    "\n",
    "plt.xlabel('False Positive Rate')\n",
    "plt.ylabel('True Positive Rate')\n",
    "plt.title('Receiver Operating Characterstic')\n",
    "plt.legend(['AUC = {}'.format(roc_a)])\n",
    "plt.plot([0,1],[0,1],'b--',linewidth=2.0)\n",
    "plt.grid()\n",
    "plt.show()"
   ]
  },
  {
   "cell_type": "code",
   "execution_count": null,
   "id": "7849d396",
   "metadata": {},
   "outputs": [],
   "source": []
  },
  {
   "cell_type": "code",
   "execution_count": null,
   "id": "2b946a13",
   "metadata": {},
   "outputs": [],
   "source": []
  },
  {
   "cell_type": "code",
   "execution_count": null,
   "id": "341d59e9",
   "metadata": {},
   "outputs": [],
   "source": []
  },
  {
   "cell_type": "code",
   "execution_count": 50,
   "id": "75d9abac",
   "metadata": {},
   "outputs": [
    {
     "data": {
      "text/html": [
       "<div>\n",
       "<style scoped>\n",
       "    .dataframe tbody tr th:only-of-type {\n",
       "        vertical-align: middle;\n",
       "    }\n",
       "\n",
       "    .dataframe tbody tr th {\n",
       "        vertical-align: top;\n",
       "    }\n",
       "\n",
       "    .dataframe thead th {\n",
       "        text-align: right;\n",
       "    }\n",
       "</style>\n",
       "<table border=\"1\" class=\"dataframe\">\n",
       "  <thead>\n",
       "    <tr style=\"text-align: right;\">\n",
       "      <th></th>\n",
       "      <th>Accuracy</th>\n",
       "    </tr>\n",
       "  </thead>\n",
       "  <tbody>\n",
       "    <tr>\n",
       "      <th>Decision Tree</th>\n",
       "      <td>0.945463</td>\n",
       "    </tr>\n",
       "    <tr>\n",
       "      <th>Random Forest</th>\n",
       "      <td>0.945463</td>\n",
       "    </tr>\n",
       "    <tr>\n",
       "      <th>Navie bayes</th>\n",
       "      <td>0.940577</td>\n",
       "    </tr>\n",
       "    <tr>\n",
       "      <th>Logistics Regression</th>\n",
       "      <td>0.938743</td>\n",
       "    </tr>\n",
       "  </tbody>\n",
       "</table>\n",
       "</div>"
      ],
      "text/plain": [
       "                      Accuracy\n",
       "Decision Tree         0.945463\n",
       "Random Forest         0.945463\n",
       "Navie bayes           0.940577\n",
       "Logistics Regression  0.938743"
      ]
     },
     "execution_count": 50,
     "metadata": {},
     "output_type": "execute_result"
    }
   ],
   "source": [
    "abc = []\n",
    "classifiers =['Logistics Regression','Decision Tree','Random Forest', 'Navie bayes']\n",
    "models = [LogisticRegression(),DecisionTreeClassifier(random_state=82),RandomForestClassifier(random_state=100),GaussianNB()]\n",
    "\n",
    "for i in models:\n",
    "    model = i\n",
    "    model.fit(X_train,y_train)\n",
    "    prediction = model.predict(X_test)\n",
    "    abc.append(metrics.accuracy_score(prediction,y_test))\n",
    "models_dataframe = pd.DataFrame(abc,index=classifiers)\n",
    "models_dataframe.columns = ['Accuracy']\n",
    "models_dataframe.sort_values(['Accuracy'],ascending=[0])"
   ]
  },
  {
   "cell_type": "code",
   "execution_count": null,
   "id": "455cad52",
   "metadata": {},
   "outputs": [],
   "source": []
  },
  {
   "cell_type": "code",
   "execution_count": 51,
   "id": "06e56e50",
   "metadata": {},
   "outputs": [
    {
     "data": {
      "text/plain": [
       "head_ache              0.407803\n",
       "sore_throat            0.303292\n",
       "fever                  0.197526\n",
       "shortness_of_breath    0.080275\n",
       "cough                  0.011104\n",
       "dtype: float64"
      ]
     },
     "execution_count": 51,
     "metadata": {},
     "output_type": "execute_result"
    }
   ],
   "source": [
    "modelRF = RandomForestClassifier(n_estimators=100, random_state=0)\n",
    "modelRF.fit(X_train,y_train)\n",
    "predictionRF = modelRF.predict(X_test)\n",
    "pd.Series(modelRF.feature_importances_,index=X_train.columns).sort_values(ascending=False)"
   ]
  },
  {
   "cell_type": "code",
   "execution_count": null,
   "id": "0b031c52",
   "metadata": {},
   "outputs": [],
   "source": []
  },
  {
   "cell_type": "code",
   "execution_count": 38,
   "id": "c79a0e24",
   "metadata": {},
   "outputs": [],
   "source": [
    "from sklearn.model_selection import KFold\n",
    "from sklearn.model_selection import cross_val_score"
   ]
  },
  {
   "cell_type": "code",
   "execution_count": 53,
   "id": "088c7d32",
   "metadata": {},
   "outputs": [],
   "source": [
    "kfold = KFold(n_splits=10,random_state=None)"
   ]
  },
  {
   "cell_type": "code",
   "execution_count": 54,
   "id": "cdba2e08",
   "metadata": {},
   "outputs": [
    {
     "data": {
      "text/html": [
       "<div>\n",
       "<style scoped>\n",
       "    .dataframe tbody tr th:only-of-type {\n",
       "        vertical-align: middle;\n",
       "    }\n",
       "\n",
       "    .dataframe tbody tr th {\n",
       "        vertical-align: top;\n",
       "    }\n",
       "\n",
       "    .dataframe thead th {\n",
       "        text-align: right;\n",
       "    }\n",
       "</style>\n",
       "<table border=\"1\" class=\"dataframe\">\n",
       "  <thead>\n",
       "    <tr style=\"text-align: right;\">\n",
       "      <th></th>\n",
       "      <th>CV Mean</th>\n",
       "    </tr>\n",
       "  </thead>\n",
       "  <tbody>\n",
       "    <tr>\n",
       "      <th>Decision Tree</th>\n",
       "      <td>0.945413</td>\n",
       "    </tr>\n",
       "    <tr>\n",
       "      <th>Random Forest</th>\n",
       "      <td>0.945413</td>\n",
       "    </tr>\n",
       "    <tr>\n",
       "      <th>Navie bayes</th>\n",
       "      <td>0.943484</td>\n",
       "    </tr>\n",
       "    <tr>\n",
       "      <th>Logistics Regression</th>\n",
       "      <td>0.936592</td>\n",
       "    </tr>\n",
       "  </tbody>\n",
       "</table>\n",
       "</div>"
      ],
      "text/plain": [
       "                       CV Mean\n",
       "Decision Tree         0.945413\n",
       "Random Forest         0.945413\n",
       "Navie bayes           0.943484\n",
       "Logistics Regression  0.936592"
      ]
     },
     "execution_count": 54,
     "metadata": {},
     "output_type": "execute_result"
    }
   ],
   "source": [
    "xyz = []\n",
    "accuracy = []\n",
    "classifiers =['Logistics Regression','Decision Tree','Random Forest', 'Navie bayes']\n",
    "models = [LogisticRegression(),DecisionTreeClassifier(random_state=82),RandomForestClassifier(random_state=100),GaussianNB()]\n",
    "\n",
    "for i in models:\n",
    "    model = i;\n",
    "    cv_result = cross_val_score(model,X,y,cv=kfold,scoring='accuracy')\n",
    "    cv_result = cv_result\n",
    "    xyz.append(cv_result.mean())\n",
    "    \n",
    "cv_model_dataframe = pd.DataFrame(xyz,index=classifiers)\n",
    "cv_model_dataframe.columns = ['CV Mean']\n",
    "cv_model_dataframe\n",
    "cv_model_dataframe.sort_values(['CV Mean'],ascending=[0])"
   ]
  },
  {
   "cell_type": "code",
   "execution_count": 26,
   "id": "f4e9c045",
   "metadata": {},
   "outputs": [],
   "source": [
    "from sklearn.ensemble import VotingClassifier\n",
    "from sklearn.ensemble import BaggingClassifier"
   ]
  },
  {
   "cell_type": "code",
   "execution_count": 56,
   "id": "c11bb6ad",
   "metadata": {},
   "outputs": [],
   "source": [
    "modelDT = DecisionTreeClassifier()\n",
    "modelRF = RandomForestClassifier()\n",
    "modelGNB = GaussianNB()\n",
    "modelLR = LogisticRegression()"
   ]
  },
  {
   "cell_type": "code",
   "execution_count": 60,
   "id": "97391495",
   "metadata": {},
   "outputs": [
    {
     "name": "stdout",
     "output_type": "stream",
     "text": [
      "Accuracy of ensamble model with all 4 classifiers is -  0.9406\n"
     ]
    }
   ],
   "source": [
    "ensembleModel = VotingClassifier(estimators=[('Desision Tree', modelDT),\n",
    "                                            ('Random Forest' , modelRF),\n",
    "                                             ('Navie Bayes', modelGNB),\n",
    "                                             ('Logistic Regression' , modelLR)],\n",
    "                                 voting= 'soft',\n",
    "                                 weights=None,\n",
    "                                n_jobs= -1 )   \n",
    "\n",
    "ensembleModel.fit(X_train,y_train)\n",
    "predictEnsemble = ensembleModel.predict(X_test)\n",
    "print('Accuracy of ensamble model with all 4 classifiers is - ' , np.round(ensembleModel.score(X_test,y_test),4))"
   ]
  },
  {
   "cell_type": "code",
   "execution_count": null,
   "id": "963d00f3",
   "metadata": {},
   "outputs": [],
   "source": []
  },
  {
   "cell_type": "code",
   "execution_count": 16,
   "id": "9284a4cd",
   "metadata": {},
   "outputs": [],
   "source": [
    "# Logistic Regression\n",
    "ModelLR = LogisticRegression()\n",
    "ModelLR.fit(X_train,y_train)\n",
    "y_pred_prob_lr = ModelLR.predict_proba(X_test)[:,1]\n",
    "fpr_lr, tpr_lr, thresholds_lr = roc_curve(y_test,y_pred_prob_lr)\n",
    "roc_auc_lr = auc(fpr_lr, tpr_lr)\n",
    "precision_lr, recall_lr, th_lr = precision_recall_curve(y_test, y_pred_prob_lr)\n",
    "\n",
    "# Decision Tree\n",
    "ModelDT = DecisionTreeClassifier()\n",
    "ModelDT.fit(X_train,y_train)\n",
    "y_pred_prob_dt = ModelDT.predict_proba(X_test)[:,1]\n",
    "fpr_dt, tpr_dt, thresholds_dt = roc_curve(y_test,y_pred_prob_dt)\n",
    "roc_auc_dt = auc(fpr_dt, tpr_dt)\n",
    "precision_dt, recall_dt, th_dt = precision_recall_curve(y_test, y_pred_prob_dt)\n",
    "\n",
    "# Random Forest\n",
    "ModelRF = RandomForestClassifier()\n",
    "ModelRF.fit(X_train,y_train)\n",
    "y_pred_prob_rf = ModelRF.predict_proba(X_test)[:,1]\n",
    "fpr_rf, tpr_rf, thresholds_rf = roc_curve(y_test, y_pred_prob_rf)\n",
    "roc_auc_rf = auc(fpr_rf, tpr_rf)\n",
    "precision_rf, recall_rf, th_rf = precision_recall_curve(y_test, y_pred_prob_rf)\n",
    "\n",
    "# Gaussian navie Bayes\n",
    "ModelGNB = GaussianNB()\n",
    "ModelGNB.fit(X_train,y_train)\n",
    "y_pred_prob_gnb = ModelGNB.predict_proba(X_test)[:,1]\n",
    "fpr_gnb, tpr_gnb, thresholds_gnb = roc_curve(y_test, y_pred_prob_gnb)\n",
    "roc_auc_gnb = auc(fpr_rf, tpr_rf)\n",
    "precision_gnb, recall_gnb, th_gnb = precision_recall_curve(y_test, y_pred_prob_gnb)"
   ]
  },
  {
   "cell_type": "code",
   "execution_count": null,
   "id": "8063f3a2",
   "metadata": {},
   "outputs": [],
   "source": []
  },
  {
   "cell_type": "code",
   "execution_count": 69,
   "id": "b5745b34",
   "metadata": {},
   "outputs": [
    {
     "data": {
      "image/png": "[encoded data removed]",
      "text/plain": [
       "<Figure size 1080x576 with 1 Axes>"
      ]
     },
     "metadata": {
      "needs_background": "light"
     },
     "output_type": "display_data"
    }
   ],
   "source": [
    "plt.figure(figsize=(15,8))\n",
    "plt.plot(fpr_lr, tpr_lr, label= 'LR (area = %0.3f)' %roc_auc_lr)\n",
    "plt.plot(fpr_dt, tpr_dt, label= 'DT (area = %0.3f)' %roc_auc_dt)\n",
    "plt.plot(fpr_rf, tpr_rf, label= 'RF (area = %0.3f)' %roc_auc_rf)\n",
    "plt.plot(fpr_gnb, tpr_gnb, label= 'GNB (area = %0.3f)' %roc_auc_gnb)\n",
    "plt.xlabel('False Positive Rate')\n",
    "plt.ylabel('True Positive Rate')\n",
    "plt.title('ROC curves from different models')\n",
    "plt.legend()\n",
    "plt.show()"
   ]
  },
  {
   "cell_type": "code",
   "execution_count": 10,
   "id": "baf926bb",
   "metadata": {},
   "outputs": [
    {
     "name": "stdout",
     "output_type": "stream",
     "text": [
      "Accuracy of bagging model with all 5 RF classifiers is -  0.9455\n"
     ]
    }
   ],
   "source": [
    "baggingModel = BaggingClassifier(base_estimator=RandomForestClassifier(),\n",
    "                                  n_estimators=5,  \n",
    "                                 random_state= 100,\n",
    "                                 n_jobs= -1\n",
    "                                )\n",
    "\n",
    "baggingModel.fit(X_train,y_train)\n",
    "predictEnsemble = baggingModel.predict(X_test)\n",
    "print('Accuracy of bagging model with all 5 RF classifiers is - ' , np.round(baggingModel.score(X_test,y_test),4))"
   ]
  },
  {
   "cell_type": "code",
   "execution_count": null,
   "id": "0f13062c",
   "metadata": {},
   "outputs": [],
   "source": [
    "#baggingModel2 = BaggingClassifier(base_estimator=RandomForestClassifier(n_estimators=),\n",
    "#                                  n_estimators=10,  \n",
    "#                                 random_state= 100,\n",
    "#                                 n_jobs= -1\n",
    "                                )\n",
    "\n",
    "#baggingModel2.fit(X_train,y_train)\n",
    "#predictEnsemble = baggingModel2.predict(X_test)\n",
    "#print('Accuracy of bagging model with all 10 RF classifiers is - ' , np.round(baggingModel2.score(X_test,y_test),4))"
   ]
  },
  {
   "cell_type": "code",
   "execution_count": null,
   "id": "b0026c70",
   "metadata": {},
   "outputs": [],
   "source": []
  },
  {
   "cell_type": "code",
   "execution_count": null,
   "id": "0c726519",
   "metadata": {},
   "outputs": [],
   "source": []
  },
  {
   "cell_type": "code",
   "execution_count": null,
   "id": "1f5a94bb",
   "metadata": {},
   "outputs": [],
   "source": []
  },
  {
   "cell_type": "code",
   "execution_count": 27,
   "id": "14ac25d0",
   "metadata": {},
   "outputs": [
    {
     "name": "stdout",
     "output_type": "stream",
     "text": [
      "[12:10:38] WARNING: C:/Users/Administrator/workspace/xgboost-win64_release_1.4.0/src/learner.cc:1095: Starting in XGBoost 1.3.0, the default evaluation metric used with the objective 'binary:logistic' was changed from 'error' to 'logloss'. Explicitly set eval_metric if you'd like to restore the old behavior.\n"
     ]
    }
   ],
   "source": [
    "# Gradient Boost\n",
    "ModelGB = GradientBoostingClassifier()\n",
    "ModelGB.fit(X_train,y_train)\n",
    "y_pred_prob_gb = ModelGB.predict_proba(X_test)[:,1]\n",
    "fpr_gb, tpr_gb, thresholds_gb = roc_curve(y_test,y_pred_prob_gb)\n",
    "roc_auc_gb = auc(fpr_gb, tpr_gb)\n",
    "precision_gb, recall_gb, th_gb = precision_recall_curve(y_test, y_pred_prob_gb)\n",
    "\n",
    "# Extremet gradient Boost\n",
    "ModelXGB = XGBClassifier()\n",
    "ModelXGB.fit(X_train,y_train)\n",
    "y_pred_prob_xgb = ModelXGB.predict_proba(X_test)[:,1]\n",
    "fpr_xgb, tpr_xgb, thresholds_xgb = roc_curve(y_test,y_pred_prob_xgb)\n",
    "roc_auc_xgb = auc(fpr_xgb, tpr_xgb)\n",
    "precision_xgb, recall_xgb, th_xgb = precision_recall_curve(y_test, y_pred_prob_xgb)\n",
    "\n"
   ]
  },
  {
   "cell_type": "code",
   "execution_count": 29,
   "id": "55a8697e",
   "metadata": {},
   "outputs": [],
   "source": [
    "ModelADA = AdaBoostClassifier()\n",
    "ModelADA.fit(X_train,y_train)\n",
    "y_pred_prob_ada = ModelADA.predict_proba(X_test)[:,1]\n",
    "fpr_ada, tpr_ada, thresholds_ada = roc_curve(y_test, y_pred_prob_ada)\n",
    "roc_auc_ada = auc(fpr_ada, tpr_ada)\n",
    "precision_ada, recall_ada, th_ada = precision_recall_curve(y_test, y_pred_prob_ada)"
   ]
  },
  {
   "cell_type": "code",
   "execution_count": 30,
   "id": "8644a1b5",
   "metadata": {},
   "outputs": [
    {
     "data": {
      "image/png": "[encoded data removed]",
      "text/plain": [
       "<Figure size 1080x576 with 1 Axes>"
      ]
     },
     "metadata": {
      "needs_background": "light"
     },
     "output_type": "display_data"
    }
   ],
   "source": [
    "plt.figure(figsize=(15,8))\n",
    "plt.plot(fpr_gb, tpr_gb, label= 'GB (area = %0.3f)' %roc_auc_gb)\n",
    "plt.plot(fpr_xgb, tpr_xgb, label= 'XGB (area = %0.3f)' %roc_auc_xgb)\n",
    "plt.plot(fpr_ada, tpr_ada, label= 'ADABoost (area = %0.3f)' %roc_auc_ada)\n",
    "\n",
    "plt.xlabel('False Positive Rate')\n",
    "plt.ylabel('True Positive Rate')\n",
    "plt.title('ROC curves from different models')\n",
    "plt.legend()\n",
    "plt.show()"
   ]
  },
  {
   "cell_type": "code",
   "execution_count": 34,
   "id": "f4f20756",
   "metadata": {},
   "outputs": [
    {
     "data": {
      "text/html": [
       "<div>\n",
       "<style scoped>\n",
       "    .dataframe tbody tr th:only-of-type {\n",
       "        vertical-align: middle;\n",
       "    }\n",
       "\n",
       "    .dataframe tbody tr th {\n",
       "        vertical-align: top;\n",
       "    }\n",
       "\n",
       "    .dataframe thead th {\n",
       "        text-align: right;\n",
       "    }\n",
       "</style>\n",
       "<table border=\"1\" class=\"dataframe\">\n",
       "  <thead>\n",
       "    <tr style=\"text-align: right;\">\n",
       "      <th></th>\n",
       "      <th>Accuracy</th>\n",
       "    </tr>\n",
       "  </thead>\n",
       "  <tbody>\n",
       "    <tr>\n",
       "      <th>Gradient Boosting</th>\n",
       "      <td>0.945463</td>\n",
       "    </tr>\n",
       "    <tr>\n",
       "      <th>Xgboost</th>\n",
       "      <td>0.945463</td>\n",
       "    </tr>\n",
       "    <tr>\n",
       "      <th>ADABoost</th>\n",
       "      <td>0.934402</td>\n",
       "    </tr>\n",
       "  </tbody>\n",
       "</table>\n",
       "</div>"
      ],
      "text/plain": [
       "                   Accuracy\n",
       "Gradient Boosting  0.945463\n",
       "Xgboost            0.945463\n",
       "ADABoost           0.934402"
      ]
     },
     "execution_count": 34,
     "metadata": {},
     "output_type": "execute_result"
    }
   ],
   "source": [
    "pqr = []\n",
    "classifiers =['Gradient Boosting','Xgboost','ADABoost']\n",
    "models = [ModelGB,ModelXGB,ModelADA]\n",
    "\n",
    "for i in models:\n",
    "    model = i\n",
    "    #model.fit(X_train,y_train)\n",
    "    prediction = model.predict(X_test)\n",
    "    pqr.append(metrics.accuracy_score(prediction,y_test))\n",
    "models_dataframe_2 = pd.DataFrame(pqr,index=classifiers)\n",
    "models_dataframe_2.columns = ['Accuracy']\n",
    "models_dataframe_2.sort_values(['Accuracy'],ascending=[0])"
   ]
  },
  {
   "cell_type": "markdown",
   "id": "992b9e04",
   "metadata": {},
   "source": [
    "# Hyperparameter tunning on higher accuracy algorithm"
   ]
  },
  {
   "cell_type": "markdown",
   "id": "3e5c065e",
   "metadata": {},
   "source": [
    "## 1. RF"
   ]
  },
  {
   "cell_type": "code",
   "execution_count": 58,
   "id": "0a107421",
   "metadata": {},
   "outputs": [],
   "source": [
    "from sklearn.model_selection import RandomizedSearchCV\n",
    "from sklearn.model_selection import GridSearchCV\n",
    "\n",
    "from sklearn.model_selection import cross_val_score"
   ]
  },
  {
   "cell_type": "code",
   "execution_count": 61,
   "id": "2ae74bb9",
   "metadata": {},
   "outputs": [
    {
     "name": "stdout",
     "output_type": "stream",
     "text": [
      "Fitting 4 folds for each of 10 candidates, totalling 40 fits\n"
     ]
    },
    {
     "data": {
      "text/plain": [
       "RandomizedSearchCV(cv=4, estimator=RandomForestClassifier(), n_jobs=-1,\n",
       "                   param_distributions={'criterion': ['entropy', 'gini'],\n",
       "                                        'max_depth': [3, 5, 10, 15],\n",
       "                                        'max_features': ['auto', 'sqrt'],\n",
       "                                        'min_samples_leaf': [4, 6, 8, 10],\n",
       "                                        'min_samples_split': [5, 10, 15, 20],\n",
       "                                        'n_estimators': [20, 50, 150]},\n",
       "                   random_state=101, scoring='accuracy', verbose=1)"
      ]
     },
     "execution_count": 61,
     "metadata": {},
     "output_type": "execute_result"
    }
   ],
   "source": [
    "hyper_parameterRF = {'criterion': ['entropy', 'gini'],\n",
    "               'max_depth': [3,5,10,15],\n",
    "               'max_features': ['auto', 'sqrt'],\n",
    "               'min_samples_leaf': [4, 6, 8,10],\n",
    "               'min_samples_split': [5,10,15,20],\n",
    "               'n_estimators': [20,50,150]}\n",
    "\n",
    "clfRF = RandomForestClassifier()\n",
    "modelRFC = RandomizedSearchCV(estimator = clfRF, \n",
    "                              param_distributions = hyper_parameterRF,\n",
    "                              n_iter = 10, \n",
    "                               cv = 4, \n",
    "                              verbose= 1, \n",
    "                              random_state= 101, \n",
    "                              n_jobs = -1,\n",
    "                             scoring = 'accuracy')\n",
    "\n",
    "modelRFC.fit(X_train,y_train)"
   ]
  },
  {
   "cell_type": "code",
   "execution_count": 63,
   "id": "46e6e7d1",
   "metadata": {},
   "outputs": [
    {
     "name": "stdout",
     "output_type": "stream",
     "text": [
      "Training score -  0.9453914188254676\n",
      "Testing score -  0.9454628585633496\n"
     ]
    }
   ],
   "source": [
    "print('Training score - ',modelRFC.score(X_train,y_train))\n",
    "print('Testing score - ',modelRFC.score(X_test,y_test))"
   ]
  },
  {
   "cell_type": "code",
   "execution_count": null,
   "id": "c22c4152",
   "metadata": {},
   "outputs": [],
   "source": []
  },
  {
   "cell_type": "code",
   "execution_count": 58,
   "id": "e52c9813",
   "metadata": {},
   "outputs": [
    {
     "name": "stdout",
     "output_type": "stream",
     "text": [
      "Fitting 4 folds for each of 10 candidates, totalling 40 fits\n"
     ]
    },
    {
     "data": {
      "text/plain": [
       "RandomizedSearchCV(cv=4, estimator=DecisionTreeClassifier(), n_jobs=-1,\n",
       "                   param_distributions={'criterion': ['entropy', 'gini'],\n",
       "                                        'max_depth': [3, 5, 10, 15, 20, 25, 30],\n",
       "                                        'max_features': ['auto', 'sqrt'],\n",
       "                                        'min_samples_leaf': [4, 6, 8, 10, 20],\n",
       "                                        'min_samples_split': [5, 10, 15, 20,\n",
       "                                                              30]},\n",
       "                   random_state=101, scoring='accuracy', verbose=1)"
      ]
     },
     "execution_count": 58,
     "metadata": {},
     "output_type": "execute_result"
    }
   ],
   "source": [
    "hyper_parameterDT = {'criterion': ['entropy', 'gini'],\n",
    "               'max_depth': [3,5,10,15,20,25,30],\n",
    "               'max_features': ['auto', 'sqrt'],\n",
    "               'min_samples_leaf': [4, 6, 8,10,20],\n",
    "               'min_samples_split': [5,10,15,20,30]\n",
    "               }\n",
    "\n",
    "clfDT = DecisionTreeClassifier()\n",
    "modelDTC = RandomizedSearchCV(estimator = clfDT, \n",
    "                              param_distributions = hyper_parameterDT,\n",
    "                              n_iter = 10, \n",
    "                               cv = 4, \n",
    "                              verbose= 1, \n",
    "                              random_state= 101, \n",
    "                              n_jobs = -1,\n",
    "                             scoring = 'accuracy')\n",
    "\n",
    "modelDTC.fit(X_train,y_train)\n"
   ]
  },
  {
   "cell_type": "code",
   "execution_count": 60,
   "id": "f68cb163",
   "metadata": {},
   "outputs": [
    {
     "name": "stdout",
     "output_type": "stream",
     "text": [
      "Training score -  0.9453914188254676\n",
      "Testing score -  0.9454628585633496\n"
     ]
    }
   ],
   "source": [
    "print('Training score - ',modelDTC.score(X_train,y_train))\n",
    "print('Testing score - ',modelDTC.score(X_test,y_test))"
   ]
  },
  {
   "cell_type": "code",
   "execution_count": null,
   "id": "2e88df0c",
   "metadata": {},
   "outputs": [],
   "source": []
  },
  {
   "cell_type": "code",
   "execution_count": 56,
   "id": "245cc1f7",
   "metadata": {},
   "outputs": [
    {
     "name": "stdout",
     "output_type": "stream",
     "text": [
      "Fitting 4 folds for each of 10 candidates, totalling 40 fits\n"
     ]
    },
    {
     "data": {
      "text/plain": [
       "RandomizedSearchCV(cv=4, estimator=GaussianNB(), n_jobs=-1,\n",
       "                   param_distributions={'var_smoothing': array([1.00000000e+00, 8.11130831e-01, 6.57933225e-01, 5.33669923e-01,\n",
       "       4.32876128e-01, 3.51119173e-01, 2.84803587e-01, 2.31012970e-01,\n",
       "       1.87381742e-01, 1.51991108e-01, 1.23284674e-01, 1.00000000e-01,\n",
       "       8.11130831e-02, 6.57933225e-02, 5.33669923e-02, 4.32876128e-02,\n",
       "       3.5111917...\n",
       "       1.23284674e-07, 1.00000000e-07, 8.11130831e-08, 6.57933225e-08,\n",
       "       5.33669923e-08, 4.32876128e-08, 3.51119173e-08, 2.84803587e-08,\n",
       "       2.31012970e-08, 1.87381742e-08, 1.51991108e-08, 1.23284674e-08,\n",
       "       1.00000000e-08, 8.11130831e-09, 6.57933225e-09, 5.33669923e-09,\n",
       "       4.32876128e-09, 3.51119173e-09, 2.84803587e-09, 2.31012970e-09,\n",
       "       1.87381742e-09, 1.51991108e-09, 1.23284674e-09, 1.00000000e-09])},\n",
       "                   random_state=95, scoring='accuracy', verbose=1)"
      ]
     },
     "execution_count": 56,
     "metadata": {},
     "output_type": "execute_result"
    }
   ],
   "source": [
    "hyper_parameterGNB = {\n",
    "                'var_smoothing': np.logspace(0,-9, num=100)\n",
    "                }\n",
    "\n",
    "clfGNB = GaussianNB()\n",
    "modelGNBC = RandomizedSearchCV(estimator = clfGNB, \n",
    "                              param_distributions = hyper_parameterGNB,\n",
    "                              n_iter = 10, \n",
    "                              cv = 4, \n",
    "                              verbose= 1, \n",
    "                              random_state= 95, \n",
    "                              n_jobs = -1,\n",
    "                             scoring = 'accuracy') \n",
    "\n",
    "modelGNBC.fit(X_train, y_train)\n"
   ]
  },
  {
   "cell_type": "code",
   "execution_count": 57,
   "id": "96f9a697",
   "metadata": {},
   "outputs": [
    {
     "name": "stdout",
     "output_type": "stream",
     "text": [
      "Training score -  0.940869303837805\n",
      "Testing score -  0.9405772525901791\n"
     ]
    }
   ],
   "source": [
    "print('Training score - ',modelGNBC.score(X_train,y_train))\n",
    "print('Testing score - ',modelGNBC.score(X_test,y_test))"
   ]
  },
  {
   "cell_type": "code",
   "execution_count": null,
   "id": "1885de01",
   "metadata": {},
   "outputs": [],
   "source": []
  },
  {
   "cell_type": "code",
   "execution_count": 64,
   "id": "90d4fa44",
   "metadata": {},
   "outputs": [
    {
     "name": "stdout",
     "output_type": "stream",
     "text": [
      "Fitting 4 folds for each of 10 candidates, totalling 40 fits\n",
      "[18:29:29] WARNING: C:/Users/Administrator/workspace/xgboost-win64_release_1.4.0/src/learner.cc:1095: Starting in XGBoost 1.3.0, the default evaluation metric used with the objective 'binary:logistic' was changed from 'error' to 'logloss'. Explicitly set eval_metric if you'd like to restore the old behavior.\n"
     ]
    },
    {
     "data": {
      "text/plain": [
       "RandomizedSearchCV(cv=4,\n",
       "                   estimator=XGBClassifier(base_score=None, booster=None,\n",
       "                                           colsample_bylevel=None,\n",
       "                                           colsample_bynode=None,\n",
       "                                           colsample_bytree=None, gamma=None,\n",
       "                                           gpu_id=None, importance_type='gain',\n",
       "                                           interaction_constraints=None,\n",
       "                                           learning_rate=None,\n",
       "                                           max_delta_step=None, max_depth=None,\n",
       "                                           min_child_weight=None, missing=nan,\n",
       "                                           monotone_constraints=None,\n",
       "                                           n_estimators=100,...\n",
       "                   n_jobs=-1,\n",
       "                   param_distributions={'colsample_bytree': [0.3, 0.6, 0.8,\n",
       "                                                             1.0],\n",
       "                                        'gamma': [0.01, 0.1, 0.3, 0.5, 1, 1.5,\n",
       "                                                  2],\n",
       "                                        'learning_rate': [0.1, 0.01, 0.001],\n",
       "                                        'max_depth': [2, 4, 10, 30, 50],\n",
       "                                        'min_child_weight': [1, 3, 5, 7],\n",
       "                                        'n_estimators': [50, 70, 150, 200, 250],\n",
       "                                        'reg_alpha': [0, 0.5, 1],\n",
       "                                        'reg_lambda': [1, 1.5, 2, 3, 4.5],\n",
       "                                        'subsample': [0.2, 0.4, 0.5, 0.6, 0.7]},\n",
       "                   random_state=45, scoring='accuracy', verbose=3)"
      ]
     },
     "execution_count": 64,
     "metadata": {},
     "output_type": "execute_result"
    }
   ],
   "source": [
    "hyper_parameterXGB = {\"learning_rate\": [0.1, 0.01, 0.001],\n",
    "    \"gamma\" : [0.01, 0.1, 0.3, 0.5, 1, 1.5, 2],\n",
    "    \"max_depth\": [2, 4, 10,30, 50],\n",
    "    \"colsample_bytree\": [0.3, 0.6, 0.8, 1.0],\n",
    "    \"subsample\": [0.2, 0.4, 0.5, 0.6, 0.7],\n",
    "    \"reg_alpha\": [0, 0.5, 1],\n",
    "    \"reg_lambda\": [1, 1.5, 2, 3, 4.5],\n",
    "    \"min_child_weight\": [1, 3, 5, 7],\n",
    "    \"n_estimators\": [50,70,150,200, 250]}\n",
    "\n",
    "clfXGB = XGBClassifier()\n",
    "modelXGBC = RandomizedSearchCV(estimator = clfXGB, \n",
    "                              param_distributions = hyper_parameterXGB,\n",
    "                              n_iter = 10, \n",
    "                              cv = 4, \n",
    "                              verbose= 3, \n",
    "                              random_state= 45, \n",
    "                              n_jobs = -1,\n",
    "                             scoring = 'accuracy') \n",
    "\n",
    "\n",
    "\n",
    "modelXGBC.fit(X_train, y_train)"
   ]
  },
  {
   "cell_type": "code",
   "execution_count": 65,
   "id": "5d960092",
   "metadata": {},
   "outputs": [
    {
     "name": "stdout",
     "output_type": "stream",
     "text": [
      "Training score -  0.9453914188254676\n",
      "Testing score -  0.9454628585633496\n"
     ]
    }
   ],
   "source": [
    "print('Training score - ',modelXGBC.score(X_train,y_train))\n",
    "print('Testing score - ',modelXGBC.score(X_test,y_test))"
   ]
  },
  {
   "cell_type": "code",
   "execution_count": null,
   "id": "b01ccc64",
   "metadata": {},
   "outputs": [],
   "source": []
  },
  {
   "cell_type": "code",
   "execution_count": 66,
   "id": "b7af3662",
   "metadata": {},
   "outputs": [
    {
     "name": "stdout",
     "output_type": "stream",
     "text": [
      "Fitting 4 folds for each of 10 candidates, totalling 40 fits\n"
     ]
    },
    {
     "data": {
      "text/plain": [
       "RandomizedSearchCV(cv=4, estimator=AdaBoostClassifier(), n_jobs=-1,\n",
       "                   param_distributions={'algorithm': ['SAMME', 'SAMME.R'],\n",
       "                                        'learning_rate': [0.97, 0.98, 0.99, 1.0,\n",
       "                                                          1.01, 1.02, 1.03,\n",
       "                                                          1.04],\n",
       "                                        'n_estimators': [20, 30, 50, 90, 125]},\n",
       "                   random_state=72, scoring='accuracy', verbose=3)"
      ]
     },
     "execution_count": 66,
     "metadata": {},
     "output_type": "execute_result"
    }
   ],
   "source": [
    "hyper_parameterADA = {\n",
    "    'n_estimators': [20,30,50,90,125],\n",
    "    'learning_rate': [(0.97 + x / 100) for x in range(0, 8)], # different LR ne try kartoy so that jar adaboost ne better perform kele tar\n",
    "    'algorithm': ['SAMME', 'SAMME.R']\n",
    "}\n",
    "\n",
    "\n",
    "clfADA = AdaBoostClassifier()\n",
    "modelADAC = RandomizedSearchCV(estimator = clfADA, \n",
    "                              param_distributions = hyper_parameterADA,\n",
    "                              n_iter = 10,  \n",
    "                              cv = 4, \n",
    "                              verbose= 3, \n",
    "                              random_state= 72, \n",
    "                              n_jobs = -1,\n",
    "                             scoring = 'accuracy') \n",
    "\n",
    "\n",
    "\n",
    "modelADAC.fit(X_train, y_train)"
   ]
  },
  {
   "cell_type": "code",
   "execution_count": 67,
   "id": "7951935f",
   "metadata": {},
   "outputs": [
    {
     "name": "stdout",
     "output_type": "stream",
     "text": [
      "Training score -  0.9383516063305805\n",
      "Testing score -  0.9381082592753713\n"
     ]
    }
   ],
   "source": [
    "print('Training score - ',modelADAC.score(X_train,y_train))\n",
    "print('Testing score - ',modelADAC.score(X_test,y_test))"
   ]
  },
  {
   "cell_type": "code",
   "execution_count": null,
   "id": "c8b7a638",
   "metadata": {},
   "outputs": [],
   "source": []
  },
  {
   "cell_type": "code",
   "execution_count": null,
   "id": "dae958b4",
   "metadata": {},
   "outputs": [],
   "source": []
  },
  {
   "cell_type": "code",
   "execution_count": null,
   "id": "4ef40e1c",
   "metadata": {},
   "outputs": [],
   "source": []
  },
  {
   "cell_type": "code",
   "execution_count": 76,
   "id": "9436bfb2",
   "metadata": {},
   "outputs": [
    {
     "data": {
      "text/plain": [
       "DecisionTreeClassifier(max_depth=15, max_features='sqrt', min_samples_leaf=4,\n",
       "                       min_samples_split=30)"
      ]
     },
     "execution_count": 76,
     "metadata": {},
     "output_type": "execute_result"
    }
   ],
   "source": []
  },
  {
   "cell_type": "code",
   "execution_count": null,
   "id": "4e4636b4",
   "metadata": {},
   "outputs": [],
   "source": [
    "#RF_model = RandomForestClassifier(criterion='entropy', \n",
    "                                  max_depth=15, \n",
    "                                  max_features='sqrt',\n",
    "                                   min_samples_leaf=6,\n",
    "                                  min_samples_split=10,\n",
    "                                   n_estimators=50)\n",
    "\n",
    "#DT_model = DecisionTreeClassifier()"
   ]
  },
  {
   "cell_type": "code",
   "execution_count": 51,
   "id": "5a97b526",
   "metadata": {},
   "outputs": [],
   "source": [
    "def eval_metrics(target,prob,threshold):        \n",
    "        data=pd.DataFrame()\n",
    "        data['pred_proba'] = pd.Series(prob)\n",
    "        data['pred'] = data['pred_proba'].map(lambda x: 1.0 if x > threshold else 0.0)\n",
    "        accuracy=metrics.accuracy_score(target,data['pred'])\n",
    "        precision= metrics.precision_score(target,data['pred'])\n",
    "        recall= metrics.recall_score(target,data['pred'])\n",
    "        f1_score = metrics.f1_score(target,data['pred'])\n",
    "        roc_auc = metrics.roc_auc_score(target,data['pred'])\n",
    "        return(accuracy,precision,recall,f1_score,roc_auc)"
   ]
  },
  {
   "cell_type": "code",
   "execution_count": 110,
   "id": "02ad773a",
   "metadata": {},
   "outputs": [
    {
     "name": "stdout",
     "output_type": "stream",
     "text": [
      "========================= Model =  RF =========================\n",
      "Training Accuracy -  0.9453914188254676\n",
      "Testing Accuracy -  0.9454628585633496\n",
      "========================= Threshold =  0.1 =========================\n",
      "Accuracy =  0.934619006580562\n",
      "Precision =  0.9205646337377336\n",
      "Recall =  0.9401215588482188\n",
      "f1 score =  0.9302403188011827\n",
      "roc auc =  0.9349915433830573\n",
      "==================================================\n",
      "\n",
      "\n",
      "========================= Threshold =  0.2 =========================\n",
      "Accuracy =  0.934619006580562\n",
      "Precision =  0.9205646337377336\n",
      "Recall =  0.9401215588482188\n",
      "f1 score =  0.9302403188011827\n",
      "roc auc =  0.9349915433830573\n",
      "==================================================\n",
      "\n",
      "\n",
      "========================= Threshold =  0.3 =========================\n",
      "Accuracy =  0.9434996261692911\n",
      "Precision =  0.9499062918565143\n",
      "Recall =  0.9270384329132849\n",
      "f1 score =  0.9383330564784053\n",
      "roc auc =  0.9423851614622685\n",
      "==================================================\n",
      "\n",
      "\n",
      "========================= Threshold =  0.4 =========================\n",
      "Accuracy =  0.9434996261692911\n",
      "Precision =  0.9499062918565143\n",
      "Recall =  0.9270384329132849\n",
      "f1 score =  0.9383330564784053\n",
      "roc auc =  0.9423851614622685\n",
      "==================================================\n",
      "\n",
      "\n",
      "========================= Threshold =  0.5 =========================\n",
      "Accuracy =  0.9453914188254676\n",
      "Precision =  0.9640651208001374\n",
      "Recall =  0.9163882891909124\n",
      "f1 score =  0.9396223081356461\n",
      "roc auc =  0.9434278330836431\n",
      "==================================================\n",
      "\n",
      "\n",
      "========================= Threshold =  0.6 =========================\n",
      "Accuracy =  0.9427610964939817\n",
      "Precision =  0.978105933659878\n",
      "Recall =  0.896628206674659\n",
      "f1 score =  0.9355965204525518\n",
      "roc auc =  0.9396377823613418\n",
      "==================================================\n",
      "\n",
      "\n",
      "========================= Threshold =  0.7 =========================\n",
      "Accuracy =  0.9427135353350874\n",
      "Precision =  0.9781959525828453\n",
      "Recall =  0.8964370144805521\n",
      "f1 score =  0.9355335948070633\n",
      "roc auc =  0.9395804970155622\n",
      "==================================================\n",
      "\n",
      "\n"
     ]
    },
    {
     "ename": "KeyboardInterrupt",
     "evalue": "",
     "output_type": "error",
     "traceback": [
      "\u001b[1;31m---------------------------------------------------------------------------\u001b[0m",
      "\u001b[1;31mKeyboardInterrupt\u001b[0m                         Traceback (most recent call last)",
      "\u001b[1;32m<ipython-input-110-65fa8d667fc7>\u001b[0m in \u001b[0;36m<module>\u001b[1;34m\u001b[0m\n\u001b[0;32m     23\u001b[0m \u001b[1;33m\u001b[0m\u001b[0m\n\u001b[0;32m     24\u001b[0m     \u001b[1;32mfor\u001b[0m \u001b[0mth\u001b[0m \u001b[1;32min\u001b[0m \u001b[0mthre\u001b[0m\u001b[1;33m:\u001b[0m\u001b[1;33m\u001b[0m\u001b[1;33m\u001b[0m\u001b[0m\n\u001b[1;32m---> 25\u001b[1;33m         \u001b[0maccuracy\u001b[0m\u001b[1;33m,\u001b[0m\u001b[0mprecision\u001b[0m\u001b[1;33m,\u001b[0m\u001b[0mrecall\u001b[0m\u001b[1;33m,\u001b[0m\u001b[0mf1_score\u001b[0m\u001b[1;33m,\u001b[0m\u001b[0mroc_auc\u001b[0m \u001b[1;33m=\u001b[0m \u001b[0meval_metrics\u001b[0m\u001b[1;33m(\u001b[0m\u001b[0my_train\u001b[0m\u001b[1;33m,\u001b[0m\u001b[0mpred_prob\u001b[0m\u001b[1;33m,\u001b[0m\u001b[0mth\u001b[0m\u001b[1;33m)\u001b[0m\u001b[1;33m\u001b[0m\u001b[1;33m\u001b[0m\u001b[0m\n\u001b[0m\u001b[0;32m     26\u001b[0m         \u001b[0mprint\u001b[0m\u001b[1;33m(\u001b[0m\u001b[1;34m'='\u001b[0m\u001b[1;33m*\u001b[0m\u001b[1;36m25\u001b[0m \u001b[1;33m,\u001b[0m \u001b[1;34m'Threshold = '\u001b[0m\u001b[1;33m,\u001b[0m \u001b[0mth\u001b[0m \u001b[1;33m,\u001b[0m \u001b[1;34m'='\u001b[0m\u001b[1;33m*\u001b[0m\u001b[1;36m25\u001b[0m\u001b[1;33m)\u001b[0m\u001b[1;33m\u001b[0m\u001b[1;33m\u001b[0m\u001b[0m\n\u001b[0;32m     27\u001b[0m         \u001b[0mprint\u001b[0m\u001b[1;33m(\u001b[0m\u001b[1;34m'Accuracy = '\u001b[0m\u001b[1;33m,\u001b[0m\u001b[0maccuracy\u001b[0m\u001b[1;33m)\u001b[0m\u001b[1;33m\u001b[0m\u001b[1;33m\u001b[0m\u001b[0m\n",
      "\u001b[1;32m<ipython-input-101-dc71ef34d177>\u001b[0m in \u001b[0;36meval_metrics\u001b[1;34m(target, prob, threshold)\u001b[0m\n\u001b[0;32m      6\u001b[0m         \u001b[0mprecision\u001b[0m\u001b[1;33m=\u001b[0m \u001b[0mmetrics\u001b[0m\u001b[1;33m.\u001b[0m\u001b[0mprecision_score\u001b[0m\u001b[1;33m(\u001b[0m\u001b[0mtarget\u001b[0m\u001b[1;33m,\u001b[0m\u001b[0mdata\u001b[0m\u001b[1;33m[\u001b[0m\u001b[1;34m'pred'\u001b[0m\u001b[1;33m]\u001b[0m\u001b[1;33m)\u001b[0m\u001b[1;33m\u001b[0m\u001b[1;33m\u001b[0m\u001b[0m\n\u001b[0;32m      7\u001b[0m         \u001b[0mrecall\u001b[0m\u001b[1;33m=\u001b[0m \u001b[0mmetrics\u001b[0m\u001b[1;33m.\u001b[0m\u001b[0mrecall_score\u001b[0m\u001b[1;33m(\u001b[0m\u001b[0mtarget\u001b[0m\u001b[1;33m,\u001b[0m\u001b[0mdata\u001b[0m\u001b[1;33m[\u001b[0m\u001b[1;34m'pred'\u001b[0m\u001b[1;33m]\u001b[0m\u001b[1;33m)\u001b[0m\u001b[1;33m\u001b[0m\u001b[1;33m\u001b[0m\u001b[0m\n\u001b[1;32m----> 8\u001b[1;33m         \u001b[0mf1_score\u001b[0m \u001b[1;33m=\u001b[0m \u001b[0mmetrics\u001b[0m\u001b[1;33m.\u001b[0m\u001b[0mf1_score\u001b[0m\u001b[1;33m(\u001b[0m\u001b[0mtarget\u001b[0m\u001b[1;33m,\u001b[0m\u001b[0mdata\u001b[0m\u001b[1;33m[\u001b[0m\u001b[1;34m'pred'\u001b[0m\u001b[1;33m]\u001b[0m\u001b[1;33m)\u001b[0m\u001b[1;33m\u001b[0m\u001b[1;33m\u001b[0m\u001b[0m\n\u001b[0m\u001b[0;32m      9\u001b[0m         \u001b[0mroc_auc\u001b[0m \u001b[1;33m=\u001b[0m \u001b[0mmetrics\u001b[0m\u001b[1;33m.\u001b[0m\u001b[0mroc_auc_score\u001b[0m\u001b[1;33m(\u001b[0m\u001b[0mtarget\u001b[0m\u001b[1;33m,\u001b[0m\u001b[0mdata\u001b[0m\u001b[1;33m[\u001b[0m\u001b[1;34m'pred'\u001b[0m\u001b[1;33m]\u001b[0m\u001b[1;33m)\u001b[0m\u001b[1;33m\u001b[0m\u001b[1;33m\u001b[0m\u001b[0m\n\u001b[0;32m     10\u001b[0m         \u001b[1;32mreturn\u001b[0m\u001b[1;33m(\u001b[0m\u001b[0maccuracy\u001b[0m\u001b[1;33m,\u001b[0m\u001b[0mprecision\u001b[0m\u001b[1;33m,\u001b[0m\u001b[0mrecall\u001b[0m\u001b[1;33m,\u001b[0m\u001b[0mf1_score\u001b[0m\u001b[1;33m,\u001b[0m\u001b[0mroc_auc\u001b[0m\u001b[1;33m)\u001b[0m\u001b[1;33m\u001b[0m\u001b[1;33m\u001b[0m\u001b[0m\n",
      "\u001b[1;32m~\\anaconda3\\lib\\site-packages\\sklearn\\utils\\validation.py\u001b[0m in \u001b[0;36minner_f\u001b[1;34m(*args, **kwargs)\u001b[0m\n\u001b[0;32m     61\u001b[0m             \u001b[0mextra_args\u001b[0m \u001b[1;33m=\u001b[0m \u001b[0mlen\u001b[0m\u001b[1;33m(\u001b[0m\u001b[0margs\u001b[0m\u001b[1;33m)\u001b[0m \u001b[1;33m-\u001b[0m \u001b[0mlen\u001b[0m\u001b[1;33m(\u001b[0m\u001b[0mall_args\u001b[0m\u001b[1;33m)\u001b[0m\u001b[1;33m\u001b[0m\u001b[1;33m\u001b[0m\u001b[0m\n\u001b[0;32m     62\u001b[0m             \u001b[1;32mif\u001b[0m \u001b[0mextra_args\u001b[0m \u001b[1;33m<=\u001b[0m \u001b[1;36m0\u001b[0m\u001b[1;33m:\u001b[0m\u001b[1;33m\u001b[0m\u001b[1;33m\u001b[0m\u001b[0m\n\u001b[1;32m---> 63\u001b[1;33m                 \u001b[1;32mreturn\u001b[0m \u001b[0mf\u001b[0m\u001b[1;33m(\u001b[0m\u001b[1;33m*\u001b[0m\u001b[0margs\u001b[0m\u001b[1;33m,\u001b[0m \u001b[1;33m**\u001b[0m\u001b[0mkwargs\u001b[0m\u001b[1;33m)\u001b[0m\u001b[1;33m\u001b[0m\u001b[1;33m\u001b[0m\u001b[0m\n\u001b[0m\u001b[0;32m     64\u001b[0m \u001b[1;33m\u001b[0m\u001b[0m\n\u001b[0;32m     65\u001b[0m             \u001b[1;31m# extra_args > 0\u001b[0m\u001b[1;33m\u001b[0m\u001b[1;33m\u001b[0m\u001b[1;33m\u001b[0m\u001b[0m\n",
      "\u001b[1;32m~\\anaconda3\\lib\\site-packages\\sklearn\\metrics\\_classification.py\u001b[0m in \u001b[0;36mf1_score\u001b[1;34m(y_true, y_pred, labels, pos_label, average, sample_weight, zero_division)\u001b[0m\n\u001b[0;32m   1066\u001b[0m     \u001b[0mmodified\u001b[0m \u001b[1;32mwith\u001b[0m\u001b[0;31m \u001b[0m\u001b[0;31m`\u001b[0m\u001b[0;31m`\u001b[0m\u001b[0mzero_division\u001b[0m\u001b[0;31m`\u001b[0m\u001b[0;31m`\u001b[0m\u001b[1;33m.\u001b[0m\u001b[1;33m\u001b[0m\u001b[1;33m\u001b[0m\u001b[0m\n\u001b[0;32m   1067\u001b[0m     \"\"\"\n\u001b[1;32m-> 1068\u001b[1;33m     return fbeta_score(y_true, y_pred, beta=1, labels=labels,\n\u001b[0m\u001b[0;32m   1069\u001b[0m                        \u001b[0mpos_label\u001b[0m\u001b[1;33m=\u001b[0m\u001b[0mpos_label\u001b[0m\u001b[1;33m,\u001b[0m \u001b[0maverage\u001b[0m\u001b[1;33m=\u001b[0m\u001b[0maverage\u001b[0m\u001b[1;33m,\u001b[0m\u001b[1;33m\u001b[0m\u001b[1;33m\u001b[0m\u001b[0m\n\u001b[0;32m   1070\u001b[0m                        \u001b[0msample_weight\u001b[0m\u001b[1;33m=\u001b[0m\u001b[0msample_weight\u001b[0m\u001b[1;33m,\u001b[0m\u001b[1;33m\u001b[0m\u001b[1;33m\u001b[0m\u001b[0m\n",
      "\u001b[1;32m~\\anaconda3\\lib\\site-packages\\sklearn\\utils\\validation.py\u001b[0m in \u001b[0;36minner_f\u001b[1;34m(*args, **kwargs)\u001b[0m\n\u001b[0;32m     61\u001b[0m             \u001b[0mextra_args\u001b[0m \u001b[1;33m=\u001b[0m \u001b[0mlen\u001b[0m\u001b[1;33m(\u001b[0m\u001b[0margs\u001b[0m\u001b[1;33m)\u001b[0m \u001b[1;33m-\u001b[0m \u001b[0mlen\u001b[0m\u001b[1;33m(\u001b[0m\u001b[0mall_args\u001b[0m\u001b[1;33m)\u001b[0m\u001b[1;33m\u001b[0m\u001b[1;33m\u001b[0m\u001b[0m\n\u001b[0;32m     62\u001b[0m             \u001b[1;32mif\u001b[0m \u001b[0mextra_args\u001b[0m \u001b[1;33m<=\u001b[0m \u001b[1;36m0\u001b[0m\u001b[1;33m:\u001b[0m\u001b[1;33m\u001b[0m\u001b[1;33m\u001b[0m\u001b[0m\n\u001b[1;32m---> 63\u001b[1;33m                 \u001b[1;32mreturn\u001b[0m \u001b[0mf\u001b[0m\u001b[1;33m(\u001b[0m\u001b[1;33m*\u001b[0m\u001b[0margs\u001b[0m\u001b[1;33m,\u001b[0m \u001b[1;33m**\u001b[0m\u001b[0mkwargs\u001b[0m\u001b[1;33m)\u001b[0m\u001b[1;33m\u001b[0m\u001b[1;33m\u001b[0m\u001b[0m\n\u001b[0m\u001b[0;32m     64\u001b[0m \u001b[1;33m\u001b[0m\u001b[0m\n\u001b[0;32m     65\u001b[0m             \u001b[1;31m# extra_args > 0\u001b[0m\u001b[1;33m\u001b[0m\u001b[1;33m\u001b[0m\u001b[1;33m\u001b[0m\u001b[0m\n",
      "\u001b[1;32m~\\anaconda3\\lib\\site-packages\\sklearn\\metrics\\_classification.py\u001b[0m in \u001b[0;36mfbeta_score\u001b[1;34m(y_true, y_pred, beta, labels, pos_label, average, sample_weight, zero_division)\u001b[0m\n\u001b[0;32m   1190\u001b[0m     \"\"\"\n\u001b[0;32m   1191\u001b[0m \u001b[1;33m\u001b[0m\u001b[0m\n\u001b[1;32m-> 1192\u001b[1;33m     _, _, f, _ = precision_recall_fscore_support(y_true, y_pred,\n\u001b[0m\u001b[0;32m   1193\u001b[0m                                                  \u001b[0mbeta\u001b[0m\u001b[1;33m=\u001b[0m\u001b[0mbeta\u001b[0m\u001b[1;33m,\u001b[0m\u001b[1;33m\u001b[0m\u001b[1;33m\u001b[0m\u001b[0m\n\u001b[0;32m   1194\u001b[0m                                                  \u001b[0mlabels\u001b[0m\u001b[1;33m=\u001b[0m\u001b[0mlabels\u001b[0m\u001b[1;33m,\u001b[0m\u001b[1;33m\u001b[0m\u001b[1;33m\u001b[0m\u001b[0m\n",
      "\u001b[1;32m~\\anaconda3\\lib\\site-packages\\sklearn\\utils\\validation.py\u001b[0m in \u001b[0;36minner_f\u001b[1;34m(*args, **kwargs)\u001b[0m\n\u001b[0;32m     61\u001b[0m             \u001b[0mextra_args\u001b[0m \u001b[1;33m=\u001b[0m \u001b[0mlen\u001b[0m\u001b[1;33m(\u001b[0m\u001b[0margs\u001b[0m\u001b[1;33m)\u001b[0m \u001b[1;33m-\u001b[0m \u001b[0mlen\u001b[0m\u001b[1;33m(\u001b[0m\u001b[0mall_args\u001b[0m\u001b[1;33m)\u001b[0m\u001b[1;33m\u001b[0m\u001b[1;33m\u001b[0m\u001b[0m\n\u001b[0;32m     62\u001b[0m             \u001b[1;32mif\u001b[0m \u001b[0mextra_args\u001b[0m \u001b[1;33m<=\u001b[0m \u001b[1;36m0\u001b[0m\u001b[1;33m:\u001b[0m\u001b[1;33m\u001b[0m\u001b[1;33m\u001b[0m\u001b[0m\n\u001b[1;32m---> 63\u001b[1;33m                 \u001b[1;32mreturn\u001b[0m \u001b[0mf\u001b[0m\u001b[1;33m(\u001b[0m\u001b[1;33m*\u001b[0m\u001b[0margs\u001b[0m\u001b[1;33m,\u001b[0m \u001b[1;33m**\u001b[0m\u001b[0mkwargs\u001b[0m\u001b[1;33m)\u001b[0m\u001b[1;33m\u001b[0m\u001b[1;33m\u001b[0m\u001b[0m\n\u001b[0m\u001b[0;32m     64\u001b[0m \u001b[1;33m\u001b[0m\u001b[0m\n\u001b[0;32m     65\u001b[0m             \u001b[1;31m# extra_args > 0\u001b[0m\u001b[1;33m\u001b[0m\u001b[1;33m\u001b[0m\u001b[1;33m\u001b[0m\u001b[0m\n",
      "\u001b[1;32m~\\anaconda3\\lib\\site-packages\\sklearn\\metrics\\_classification.py\u001b[0m in \u001b[0;36mprecision_recall_fscore_support\u001b[1;34m(y_true, y_pred, beta, labels, pos_label, average, warn_for, sample_weight, zero_division)\u001b[0m\n\u001b[0;32m   1459\u001b[0m     \u001b[1;32mif\u001b[0m \u001b[0mbeta\u001b[0m \u001b[1;33m<\u001b[0m \u001b[1;36m0\u001b[0m\u001b[1;33m:\u001b[0m\u001b[1;33m\u001b[0m\u001b[1;33m\u001b[0m\u001b[0m\n\u001b[0;32m   1460\u001b[0m         \u001b[1;32mraise\u001b[0m \u001b[0mValueError\u001b[0m\u001b[1;33m(\u001b[0m\u001b[1;34m\"beta should be >=0 in the F-beta score\"\u001b[0m\u001b[1;33m)\u001b[0m\u001b[1;33m\u001b[0m\u001b[1;33m\u001b[0m\u001b[0m\n\u001b[1;32m-> 1461\u001b[1;33m     labels = _check_set_wise_labels(y_true, y_pred, average, labels,\n\u001b[0m\u001b[0;32m   1462\u001b[0m                                     pos_label)\n\u001b[0;32m   1463\u001b[0m \u001b[1;33m\u001b[0m\u001b[0m\n",
      "\u001b[1;32m~\\anaconda3\\lib\\site-packages\\sklearn\\metrics\\_classification.py\u001b[0m in \u001b[0;36m_check_set_wise_labels\u001b[1;34m(y_true, y_pred, average, labels, pos_label)\u001b[0m\n\u001b[0;32m   1275\u001b[0m     \u001b[1;31m# Convert to Python primitive type to avoid NumPy type / Python str\u001b[0m\u001b[1;33m\u001b[0m\u001b[1;33m\u001b[0m\u001b[1;33m\u001b[0m\u001b[0m\n\u001b[0;32m   1276\u001b[0m     \u001b[1;31m# comparison. See https://github.com/numpy/numpy/issues/6784\u001b[0m\u001b[1;33m\u001b[0m\u001b[1;33m\u001b[0m\u001b[1;33m\u001b[0m\u001b[0m\n\u001b[1;32m-> 1277\u001b[1;33m     \u001b[0mpresent_labels\u001b[0m \u001b[1;33m=\u001b[0m \u001b[0munique_labels\u001b[0m\u001b[1;33m(\u001b[0m\u001b[0my_true\u001b[0m\u001b[1;33m,\u001b[0m \u001b[0my_pred\u001b[0m\u001b[1;33m)\u001b[0m\u001b[1;33m.\u001b[0m\u001b[0mtolist\u001b[0m\u001b[1;33m(\u001b[0m\u001b[1;33m)\u001b[0m\u001b[1;33m\u001b[0m\u001b[1;33m\u001b[0m\u001b[0m\n\u001b[0m\u001b[0;32m   1278\u001b[0m     \u001b[1;32mif\u001b[0m \u001b[0maverage\u001b[0m \u001b[1;33m==\u001b[0m \u001b[1;34m'binary'\u001b[0m\u001b[1;33m:\u001b[0m\u001b[1;33m\u001b[0m\u001b[1;33m\u001b[0m\u001b[0m\n\u001b[0;32m   1279\u001b[0m         \u001b[1;32mif\u001b[0m \u001b[0my_type\u001b[0m \u001b[1;33m==\u001b[0m \u001b[1;34m'binary'\u001b[0m\u001b[1;33m:\u001b[0m\u001b[1;33m\u001b[0m\u001b[1;33m\u001b[0m\u001b[0m\n",
      "\u001b[1;32m~\\anaconda3\\lib\\site-packages\\sklearn\\utils\\multiclass.py\u001b[0m in \u001b[0;36munique_labels\u001b[1;34m(*ys)\u001b[0m\n\u001b[0;32m     76\u001b[0m     \u001b[1;31m# Check that we don't mix label format\u001b[0m\u001b[1;33m\u001b[0m\u001b[1;33m\u001b[0m\u001b[1;33m\u001b[0m\u001b[0m\n\u001b[0;32m     77\u001b[0m \u001b[1;33m\u001b[0m\u001b[0m\n\u001b[1;32m---> 78\u001b[1;33m     \u001b[0mys_types\u001b[0m \u001b[1;33m=\u001b[0m \u001b[0mset\u001b[0m\u001b[1;33m(\u001b[0m\u001b[0mtype_of_target\u001b[0m\u001b[1;33m(\u001b[0m\u001b[0mx\u001b[0m\u001b[1;33m)\u001b[0m \u001b[1;32mfor\u001b[0m \u001b[0mx\u001b[0m \u001b[1;32min\u001b[0m \u001b[0mys\u001b[0m\u001b[1;33m)\u001b[0m\u001b[1;33m\u001b[0m\u001b[1;33m\u001b[0m\u001b[0m\n\u001b[0m\u001b[0;32m     79\u001b[0m     \u001b[1;32mif\u001b[0m \u001b[0mys_types\u001b[0m \u001b[1;33m==\u001b[0m \u001b[1;33m{\u001b[0m\u001b[1;34m\"binary\"\u001b[0m\u001b[1;33m,\u001b[0m \u001b[1;34m\"multiclass\"\u001b[0m\u001b[1;33m}\u001b[0m\u001b[1;33m:\u001b[0m\u001b[1;33m\u001b[0m\u001b[1;33m\u001b[0m\u001b[0m\n\u001b[0;32m     80\u001b[0m         \u001b[0mys_types\u001b[0m \u001b[1;33m=\u001b[0m \u001b[1;33m{\u001b[0m\u001b[1;34m\"multiclass\"\u001b[0m\u001b[1;33m}\u001b[0m\u001b[1;33m\u001b[0m\u001b[1;33m\u001b[0m\u001b[0m\n",
      "\u001b[1;32m~\\anaconda3\\lib\\site-packages\\sklearn\\utils\\multiclass.py\u001b[0m in \u001b[0;36m<genexpr>\u001b[1;34m(.0)\u001b[0m\n\u001b[0;32m     76\u001b[0m     \u001b[1;31m# Check that we don't mix label format\u001b[0m\u001b[1;33m\u001b[0m\u001b[1;33m\u001b[0m\u001b[1;33m\u001b[0m\u001b[0m\n\u001b[0;32m     77\u001b[0m \u001b[1;33m\u001b[0m\u001b[0m\n\u001b[1;32m---> 78\u001b[1;33m     \u001b[0mys_types\u001b[0m \u001b[1;33m=\u001b[0m \u001b[0mset\u001b[0m\u001b[1;33m(\u001b[0m\u001b[0mtype_of_target\u001b[0m\u001b[1;33m(\u001b[0m\u001b[0mx\u001b[0m\u001b[1;33m)\u001b[0m \u001b[1;32mfor\u001b[0m \u001b[0mx\u001b[0m \u001b[1;32min\u001b[0m \u001b[0mys\u001b[0m\u001b[1;33m)\u001b[0m\u001b[1;33m\u001b[0m\u001b[1;33m\u001b[0m\u001b[0m\n\u001b[0m\u001b[0;32m     79\u001b[0m     \u001b[1;32mif\u001b[0m \u001b[0mys_types\u001b[0m \u001b[1;33m==\u001b[0m \u001b[1;33m{\u001b[0m\u001b[1;34m\"binary\"\u001b[0m\u001b[1;33m,\u001b[0m \u001b[1;34m\"multiclass\"\u001b[0m\u001b[1;33m}\u001b[0m\u001b[1;33m:\u001b[0m\u001b[1;33m\u001b[0m\u001b[1;33m\u001b[0m\u001b[0m\n\u001b[0;32m     80\u001b[0m         \u001b[0mys_types\u001b[0m \u001b[1;33m=\u001b[0m \u001b[1;33m{\u001b[0m\u001b[1;34m\"multiclass\"\u001b[0m\u001b[1;33m}\u001b[0m\u001b[1;33m\u001b[0m\u001b[1;33m\u001b[0m\u001b[0m\n",
      "\u001b[1;32m~\\anaconda3\\lib\\site-packages\\sklearn\\utils\\multiclass.py\u001b[0m in \u001b[0;36mtype_of_target\u001b[1;34m(y)\u001b[0m\n\u001b[0;32m    304\u001b[0m         \u001b[1;32mreturn\u001b[0m \u001b[1;34m'continuous'\u001b[0m \u001b[1;33m+\u001b[0m \u001b[0msuffix\u001b[0m\u001b[1;33m\u001b[0m\u001b[1;33m\u001b[0m\u001b[0m\n\u001b[0;32m    305\u001b[0m \u001b[1;33m\u001b[0m\u001b[0m\n\u001b[1;32m--> 306\u001b[1;33m     \u001b[1;32mif\u001b[0m \u001b[1;33m(\u001b[0m\u001b[0mlen\u001b[0m\u001b[1;33m(\u001b[0m\u001b[0mnp\u001b[0m\u001b[1;33m.\u001b[0m\u001b[0munique\u001b[0m\u001b[1;33m(\u001b[0m\u001b[0my\u001b[0m\u001b[1;33m)\u001b[0m\u001b[1;33m)\u001b[0m \u001b[1;33m>\u001b[0m \u001b[1;36m2\u001b[0m\u001b[1;33m)\u001b[0m \u001b[1;32mor\u001b[0m \u001b[1;33m(\u001b[0m\u001b[0my\u001b[0m\u001b[1;33m.\u001b[0m\u001b[0mndim\u001b[0m \u001b[1;33m>=\u001b[0m \u001b[1;36m2\u001b[0m \u001b[1;32mand\u001b[0m \u001b[0mlen\u001b[0m\u001b[1;33m(\u001b[0m\u001b[0my\u001b[0m\u001b[1;33m[\u001b[0m\u001b[1;36m0\u001b[0m\u001b[1;33m]\u001b[0m\u001b[1;33m)\u001b[0m \u001b[1;33m>\u001b[0m \u001b[1;36m1\u001b[0m\u001b[1;33m)\u001b[0m\u001b[1;33m:\u001b[0m\u001b[1;33m\u001b[0m\u001b[1;33m\u001b[0m\u001b[0m\n\u001b[0m\u001b[0;32m    307\u001b[0m         \u001b[1;32mreturn\u001b[0m \u001b[1;34m'multiclass'\u001b[0m \u001b[1;33m+\u001b[0m \u001b[0msuffix\u001b[0m  \u001b[1;31m# [1, 2, 3] or [[1., 2., 3]] or [[1, 2]]\u001b[0m\u001b[1;33m\u001b[0m\u001b[1;33m\u001b[0m\u001b[0m\n\u001b[0;32m    308\u001b[0m     \u001b[1;32melse\u001b[0m\u001b[1;33m:\u001b[0m\u001b[1;33m\u001b[0m\u001b[1;33m\u001b[0m\u001b[0m\n",
      "\u001b[1;32m<__array_function__ internals>\u001b[0m in \u001b[0;36munique\u001b[1;34m(*args, **kwargs)\u001b[0m\n",
      "\u001b[1;32m~\\anaconda3\\lib\\site-packages\\numpy\\lib\\arraysetops.py\u001b[0m in \u001b[0;36munique\u001b[1;34m(ar, return_index, return_inverse, return_counts, axis)\u001b[0m\n\u001b[0;32m    260\u001b[0m     \u001b[0mar\u001b[0m \u001b[1;33m=\u001b[0m \u001b[0mnp\u001b[0m\u001b[1;33m.\u001b[0m\u001b[0masanyarray\u001b[0m\u001b[1;33m(\u001b[0m\u001b[0mar\u001b[0m\u001b[1;33m)\u001b[0m\u001b[1;33m\u001b[0m\u001b[1;33m\u001b[0m\u001b[0m\n\u001b[0;32m    261\u001b[0m     \u001b[1;32mif\u001b[0m \u001b[0maxis\u001b[0m \u001b[1;32mis\u001b[0m \u001b[1;32mNone\u001b[0m\u001b[1;33m:\u001b[0m\u001b[1;33m\u001b[0m\u001b[1;33m\u001b[0m\u001b[0m\n\u001b[1;32m--> 262\u001b[1;33m         \u001b[0mret\u001b[0m \u001b[1;33m=\u001b[0m \u001b[0m_unique1d\u001b[0m\u001b[1;33m(\u001b[0m\u001b[0mar\u001b[0m\u001b[1;33m,\u001b[0m \u001b[0mreturn_index\u001b[0m\u001b[1;33m,\u001b[0m \u001b[0mreturn_inverse\u001b[0m\u001b[1;33m,\u001b[0m \u001b[0mreturn_counts\u001b[0m\u001b[1;33m)\u001b[0m\u001b[1;33m\u001b[0m\u001b[1;33m\u001b[0m\u001b[0m\n\u001b[0m\u001b[0;32m    263\u001b[0m         \u001b[1;32mreturn\u001b[0m \u001b[0m_unpack_tuple\u001b[0m\u001b[1;33m(\u001b[0m\u001b[0mret\u001b[0m\u001b[1;33m)\u001b[0m\u001b[1;33m\u001b[0m\u001b[1;33m\u001b[0m\u001b[0m\n\u001b[0;32m    264\u001b[0m \u001b[1;33m\u001b[0m\u001b[0m\n",
      "\u001b[1;32m~\\anaconda3\\lib\\site-packages\\numpy\\lib\\arraysetops.py\u001b[0m in \u001b[0;36m_unique1d\u001b[1;34m(ar, return_index, return_inverse, return_counts)\u001b[0m\n\u001b[0;32m    321\u001b[0m         \u001b[0maux\u001b[0m \u001b[1;33m=\u001b[0m \u001b[0mar\u001b[0m\u001b[1;33m[\u001b[0m\u001b[0mperm\u001b[0m\u001b[1;33m]\u001b[0m\u001b[1;33m\u001b[0m\u001b[1;33m\u001b[0m\u001b[0m\n\u001b[0;32m    322\u001b[0m     \u001b[1;32melse\u001b[0m\u001b[1;33m:\u001b[0m\u001b[1;33m\u001b[0m\u001b[1;33m\u001b[0m\u001b[0m\n\u001b[1;32m--> 323\u001b[1;33m         \u001b[0mar\u001b[0m\u001b[1;33m.\u001b[0m\u001b[0msort\u001b[0m\u001b[1;33m(\u001b[0m\u001b[1;33m)\u001b[0m\u001b[1;33m\u001b[0m\u001b[1;33m\u001b[0m\u001b[0m\n\u001b[0m\u001b[0;32m    324\u001b[0m         \u001b[0maux\u001b[0m \u001b[1;33m=\u001b[0m \u001b[0mar\u001b[0m\u001b[1;33m\u001b[0m\u001b[1;33m\u001b[0m\u001b[0m\n\u001b[0;32m    325\u001b[0m     \u001b[0mmask\u001b[0m \u001b[1;33m=\u001b[0m \u001b[0mnp\u001b[0m\u001b[1;33m.\u001b[0m\u001b[0mempty\u001b[0m\u001b[1;33m(\u001b[0m\u001b[0maux\u001b[0m\u001b[1;33m.\u001b[0m\u001b[0mshape\u001b[0m\u001b[1;33m,\u001b[0m \u001b[0mdtype\u001b[0m\u001b[1;33m=\u001b[0m\u001b[0mnp\u001b[0m\u001b[1;33m.\u001b[0m\u001b[0mbool_\u001b[0m\u001b[1;33m)\u001b[0m\u001b[1;33m\u001b[0m\u001b[1;33m\u001b[0m\u001b[0m\n",
      "\u001b[1;31mKeyboardInterrupt\u001b[0m: "
     ]
    }
   ],
   "source": [
    "model_prm = [('RF','pred_train','pred_test','pred_prob',modelRFC),\n",
    "            ('DT','pred_train','pred_test','pred_prob',modelDTC),\n",
    "            ('GNB','pred_train','pred_test','pred_prob',modelGNBC),\n",
    "            ('AdaBoost','pred_train','pred_test','pred_prob',modelADAC),\n",
    "             ('Xgboost','pred_train','pred_test','pred_prob',modelXGBC),\n",
    "            ]\n",
    "thre = [0.1,0.2,0.3,0.4,0.5,0.6,0.7,0.8,0.9,1.0]\n",
    "for name,pred_train,pred_test,pred_prob,model in model_prm:  \n",
    "    print('='*25 , 'Model = ', name , '='*25)    \n",
    "    \n",
    "    name = model.best_estimator_.fit(X_train,y_train)\n",
    "    \n",
    "    pred_train = model.predict(X_train)    \n",
    "    train_accracy = accuracy_score(y_train,pred_train)  \n",
    "    \n",
    "    pred_test = model.predict(X_test)\n",
    "    test_accracy = accuracy_score(y_test,pred_test)\n",
    "    print('Training Accuracy - ', train_accracy)\n",
    "    print('Testing Accuracy - ', test_accracy)\n",
    "\n",
    "    \n",
    "    pred_prob = name.predict_proba(X_train)[:,1]\n",
    "    \n",
    "    for th in thre:   \n",
    "        accuracy,precision,recall,f1_score,roc_auc = eval_metrics(y_train,pred_prob,th)\n",
    "        print('='*25 , 'Threshold = ', th , '='*25)\n",
    "        print('Accuracy = ',accuracy)\n",
    "        print('Precision = ',precision)\n",
    "        print('Recall = ',recall)\n",
    "        print('f1 score = ',f1_score)\n",
    "        print('roc auc = ',roc_auc)\n",
    "        print('='*50)\n",
    "        print('\\n')\n",
    "    \n",
    " "
   ]
  },
  {
   "cell_type": "code",
   "execution_count": 111,
   "id": "0723714a",
   "metadata": {},
   "outputs": [],
   "source": [
    "y_train_pred = ModelRF.predict(X_train)\n",
    "y_train_pred_prob = ModelRF.predict_proba(X_train)[:,1]\n",
    "\n",
    "y_test_pred = ModelRF.predict(X_test)\n",
    "y_test_pred_prob = ModelRF.predict_proba(X_test)[:,1]"
   ]
  },
  {
   "cell_type": "code",
   "execution_count": 113,
   "id": "be2820af",
   "metadata": {},
   "outputs": [
    {
     "data": {
      "image/png": "[encoded data removed]",
      "text/plain": [
       "<Figure size 1080x720 with 1 Axes>"
      ]
     },
     "metadata": {
      "needs_background": "light"
     },
     "output_type": "display_data"
    },
    {
     "name": "stdout",
     "output_type": "stream",
     "text": [
      "******************************Classifcation Report******************************\n",
      "\n",
      "\n",
      "              precision    recall  f1-score   support\n",
      "\n",
      "           0       0.93      0.97      0.95    604274\n",
      "           1       0.96      0.92      0.94    522096\n",
      "\n",
      "    accuracy                           0.95   1126370\n",
      "   macro avg       0.95      0.94      0.94   1126370\n",
      "weighted avg       0.95      0.95      0.95   1126370\n",
      "\n",
      "\n",
      "************************************Kappa Score************************************\n",
      "\n",
      "\n",
      "Kappa Score = 0.8899792216840231\n",
      "\n",
      "******************************Area Under Curve Score******************************\n",
      "\n",
      "\n",
      "AUC Score = 0.9435222473218522\n",
      "Number of probabilities to build ROC = 33\n"
     ]
    },
    {
     "data": {
      "image/png": "[encoded data removed]",
      "text/plain": [
       "<Figure size 576x360 with 1 Axes>"
      ]
     },
     "metadata": {
      "needs_background": "light"
     },
     "output_type": "display_data"
    }
   ],
   "source": [
    "cm = confusion_matrix(y_test,y_test_pred)\n",
    "row_sum = cm.sum(axis=0)\n",
    "cm = np.append(cm,row_sum.reshape(1,-1),axis=0)\n",
    "col_sum = cm.sum(axis=1)\n",
    "cm = np.append(cm,col_sum.reshape(-1,1),axis=1)\n",
    "\n",
    "plt.figure(figsize=(15,10))\n",
    "sns.heatmap(cm,annot=True,cmap='summer',fmt='0.2f',linewidths=3,cbar=None,)\n",
    "\n",
    "plt.xlabel('Predicted Values')\n",
    "plt.ylabel('Actual Values')\n",
    "plt.title('Confusion Matrix')\n",
    "plt.show()\n",
    "    \n",
    "print('*'*30+'Classifcation Report'+'*'*30+'\\n\\n')\n",
    "cr = classification_report(y_test,y_test_pred)\n",
    "print(cr)\n",
    "    \n",
    "print('\\n'+'*'*36+'Kappa Score'+'*'*36+'\\n\\n')\n",
    "    # Kappa score\n",
    "kappa = cohen_kappa_score(y_test,y_test_pred) # Kappa Score\n",
    "print('Kappa Score =',kappa)\n",
    "    \n",
    "print('\\n'+'*'*30+'Area Under Curve Score'+'*'*30+'\\n\\n')\n",
    "    # Kappa score\n",
    "roc_a = roc_auc_score(y_test,y_test_pred) # Kappa Score\n",
    "print('AUC Score =',roc_a)\n",
    "    \n",
    "    # ROC\n",
    "plt.figure(figsize=(8,5))\n",
    "fpr,tpr, thresh = roc_curve(y_test,y_test_pred_prob)\n",
    "plt.plot(fpr,tpr,'r')\n",
    "print('Number of probabilities to build ROC =',len(fpr))\n",
    "verbose = True\n",
    "n=10\n",
    "if verbose == True:\n",
    "    for i in range(len(thresh)):\n",
    "        if i%n == 0:\n",
    "            plt.text(fpr[i],tpr[i],'%0.2f'%thresh[i])\n",
    "            plt.plot(fpr[i],tpr[i],'v')\n",
    "\n",
    "\n",
    "plt.xlabel('False Positive Rate')\n",
    "plt.ylabel('True Positive Rate')\n",
    "plt.title('Receiver Operating Characterstic')\n",
    "plt.legend(['AUC = {}'.format(roc_a)])\n",
    "plt.plot([0,1],[0,1],'b--',linewidth=2.0)\n",
    "plt.grid()\n",
    "plt.show()"
   ]
  },
  {
   "cell_type": "code",
   "execution_count": null,
   "id": "d78140fa",
   "metadata": {},
   "outputs": [],
   "source": []
  },
  {
   "cell_type": "code",
   "execution_count": 114,
   "id": "1578180e",
   "metadata": {},
   "outputs": [],
   "source": [
    "import joblib"
   ]
  },
  {
   "cell_type": "code",
   "execution_count": 115,
   "id": "c7935632",
   "metadata": {},
   "outputs": [
    {
     "name": "stdout",
     "output_type": "stream",
     "text": [
      "0.9454628585633496\n"
     ]
    }
   ],
   "source": [
    "filename = 'DT_model.sav'\n",
    "joblib.dump(ModelDT, filename)\n",
    "\n",
    "loaded_model = joblib.load(filename)\n",
    "result = loaded_model.score(X_test, y_test)\n",
    "print(result)"
   ]
  },
  {
   "cell_type": "code",
   "execution_count": 116,
   "id": "9e4fdd55",
   "metadata": {},
   "outputs": [
    {
     "name": "stdout",
     "output_type": "stream",
     "text": [
      "0.9454628585633496\n"
     ]
    }
   ],
   "source": [
    "filename = 'RF_model.sav'\n",
    "joblib.dump(ModelRF, filename)\n",
    "\n",
    "loaded_model = joblib.load(filename)\n",
    "result = loaded_model.score(X_test, y_test)\n",
    "print(result)"
   ]
  },
  {
   "cell_type": "code",
   "execution_count": 118,
   "id": "858c9c37",
   "metadata": {},
   "outputs": [
    {
     "name": "stdout",
     "output_type": "stream",
     "text": [
      "0.9454628585633496\n"
     ]
    }
   ],
   "source": [
    "filename = 'XGB_model.sav'\n",
    "joblib.dump(ModelXGB, filename)\n",
    "\n",
    "loaded_model = joblib.load(filename)\n",
    "result = loaded_model.score(X_test, y_test)\n",
    "print(result)"
   ]
  },
  {
   "cell_type": "code",
   "execution_count": 120,
   "id": "1cfed562",
   "metadata": {},
   "outputs": [
    {
     "data": {
      "text/plain": [
       "DecisionTreeClassifier(max_depth=15, max_features='sqrt', min_samples_leaf=4,\n",
       "                       min_samples_split=30)"
      ]
     },
     "execution_count": 120,
     "metadata": {},
     "output_type": "execute_result"
    }
   ],
   "source": [
    "modelDTC.best_estimator_"
   ]
  },
  {
   "cell_type": "code",
   "execution_count": null,
   "id": "2e777f5d",
   "metadata": {},
   "outputs": [],
   "source": []
  },
  {
   "cell_type": "code",
   "execution_count": null,
   "id": "da8946d5",
   "metadata": {},
   "outputs": [],
   "source": []
  },
  {
   "cell_type": "code",
   "execution_count": null,
   "id": "ff1cfbc1",
   "metadata": {},
   "outputs": [],
   "source": []
  },
  {
   "cell_type": "code",
   "execution_count": null,
   "id": "10fa75ea",
   "metadata": {},
   "outputs": [],
   "source": []
  },
  {
   "cell_type": "code",
   "execution_count": null,
   "id": "74951628",
   "metadata": {},
   "outputs": [],
   "source": []
  }
 ],
 "metadata": {
  "kernelspec": {
   "display_name": "Python 3",
   "language": "python",
   "name": "python3"
  },
  "language_info": {
   "codemirror_mode": {
    "name": "ipython",
    "version": 3
   },
   "file_extension": ".py",
   "mimetype": "text/x-python",
   "name": "python",
   "nbconvert_exporter": "python",
   "pygments_lexer": "ipython3",
   "version": "3.8.8"
  }
 },
 "nbformat": 4,
 "nbformat_minor": 5
}
