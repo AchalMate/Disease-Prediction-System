{
 "cells": [
  {
   "cell_type": "code",
   "execution_count": 1,
   "id": "8687cb11",
   "metadata": {},
   "outputs": [],
   "source": [
    " import pandas as pd\n",
    "import numpy as np\n",
    "\n",
    "import seaborn as sns\n",
    "import matplotlib.pyplot as plt\n",
    "%matplotlib inline\n",
    "\n",
    "import time\n",
    "import warnings\n",
    "warnings.filterwarnings(\"ignore\")"
   ]
  },
  {
   "cell_type": "code",
   "execution_count": 2,
   "id": "b2caa89f",
   "metadata": {},
   "outputs": [],
   "source": [
    "from sklearn.preprocessing import OneHotEncoder\n",
    "from sklearn.preprocessing import LabelEncoder"
   ]
  },
  {
   "cell_type": "code",
   "execution_count": 3,
   "id": "a75594dd",
   "metadata": {},
   "outputs": [],
   "source": [
    "from sklearn.ensemble import ExtraTreesClassifier\n",
    "from statsmodels.stats.outliers_influence import variance_inflation_factor\n",
    "from sklearn.model_selection import train_test_split\n",
    "from sklearn.linear_model import LogisticRegression\n",
    "from sklearn.feature_selection import RFE\n",
    "import statsmodels.api as sm"
   ]
  },
  {
   "cell_type": "code",
   "execution_count": 4,
   "id": "936a7f57",
   "metadata": {},
   "outputs": [],
   "source": [
    "from sklearn.metrics import confusion_matrix,roc_auc_score,classification_report,precision_score,recall_score\n",
    "from sklearn.metrics import confusion_matrix,roc_auc_score,classification_report,precision_score,recall_score,roc_curve,auc,accuracy_score,f1_score\n",
    "#from imblearn.over_sampling import SMOTE\n",
    "from collections import Counter"
   ]
  },
  {
   "cell_type": "code",
   "execution_count": 5,
   "id": "557fd817",
   "metadata": {},
   "outputs": [
    {
     "name": "stdout",
     "output_type": "stream",
     "text": [
      "Collecting imblearn\n",
      "  Using cached imblearn-0.0-py2.py3-none-any.whl (1.9 kB)\n",
      "Collecting imbalanced-learn\n",
      "  Downloading imbalanced_learn-0.8.1-py3-none-any.whl (189 kB)\n",
      "Requirement already satisfied: scikit-learn>=0.24 in c:\\users\\hp\\anaconda3\\lib\\site-packages (from imbalanced-learn->imblearn) (0.24.1)\n",
      "Requirement already satisfied: joblib>=0.11 in c:\\users\\hp\\anaconda3\\lib\\site-packages (from imbalanced-learn->imblearn) (1.0.1)\n",
      "Requirement already satisfied: numpy>=1.13.3 in c:\\users\\hp\\anaconda3\\lib\\site-packages (from imbalanced-learn->imblearn) (1.20.1)\n",
      "Requirement already satisfied: scipy>=0.19.1 in c:\\users\\hp\\anaconda3\\lib\\site-packages (from imbalanced-learn->imblearn) (1.6.2)\n",
      "Requirement already satisfied: threadpoolctl>=2.0.0 in c:\\users\\hp\\anaconda3\\lib\\site-packages (from scikit-learn>=0.24->imbalanced-learn->imblearn) (2.1.0)\n",
      "Installing collected packages: imbalanced-learn, imblearn\n",
      "Successfully installed imbalanced-learn-0.8.1 imblearn-0.0\n"
     ]
    }
   ],
   "source": [
    "!pip install imblearn"
   ]
  },
  {
   "cell_type": "code",
   "execution_count": 6,
   "id": "99251863",
   "metadata": {},
   "outputs": [],
   "source": [
    "df = pd.read_csv('corona_tested_individuals_ver_0083.english.csv')"
   ]
  },
  {
   "cell_type": "code",
   "execution_count": 7,
   "id": "965f2985",
   "metadata": {},
   "outputs": [
    {
     "data": {
      "text/html": [
       "<div>\n",
       "<style scoped>\n",
       "    .dataframe tbody tr th:only-of-type {\n",
       "        vertical-align: middle;\n",
       "    }\n",
       "\n",
       "    .dataframe tbody tr th {\n",
       "        vertical-align: top;\n",
       "    }\n",
       "\n",
       "    .dataframe thead th {\n",
       "        text-align: right;\n",
       "    }\n",
       "</style>\n",
       "<table border=\"1\" class=\"dataframe\">\n",
       "  <thead>\n",
       "    <tr style=\"text-align: right;\">\n",
       "      <th></th>\n",
       "      <th>test_date</th>\n",
       "      <th>cough</th>\n",
       "      <th>fever</th>\n",
       "      <th>sore_throat</th>\n",
       "      <th>shortness_of_breath</th>\n",
       "      <th>head_ache</th>\n",
       "      <th>corona_result</th>\n",
       "      <th>age_60_and_above</th>\n",
       "      <th>gender</th>\n",
       "      <th>test_indication</th>\n",
       "    </tr>\n",
       "  </thead>\n",
       "  <tbody>\n",
       "    <tr>\n",
       "      <th>0</th>\n",
       "      <td>2020-11-12</td>\n",
       "      <td>0</td>\n",
       "      <td>0</td>\n",
       "      <td>0</td>\n",
       "      <td>0</td>\n",
       "      <td>0</td>\n",
       "      <td>negative</td>\n",
       "      <td>No</td>\n",
       "      <td>male</td>\n",
       "      <td>Other</td>\n",
       "    </tr>\n",
       "    <tr>\n",
       "      <th>1</th>\n",
       "      <td>2020-11-12</td>\n",
       "      <td>0</td>\n",
       "      <td>1</td>\n",
       "      <td>0</td>\n",
       "      <td>0</td>\n",
       "      <td>0</td>\n",
       "      <td>negative</td>\n",
       "      <td>No</td>\n",
       "      <td>male</td>\n",
       "      <td>Other</td>\n",
       "    </tr>\n",
       "    <tr>\n",
       "      <th>2</th>\n",
       "      <td>2020-11-12</td>\n",
       "      <td>0</td>\n",
       "      <td>0</td>\n",
       "      <td>0</td>\n",
       "      <td>0</td>\n",
       "      <td>0</td>\n",
       "      <td>negative</td>\n",
       "      <td>Yes</td>\n",
       "      <td>female</td>\n",
       "      <td>Other</td>\n",
       "    </tr>\n",
       "    <tr>\n",
       "      <th>3</th>\n",
       "      <td>2020-11-12</td>\n",
       "      <td>0</td>\n",
       "      <td>0</td>\n",
       "      <td>0</td>\n",
       "      <td>0</td>\n",
       "      <td>0</td>\n",
       "      <td>negative</td>\n",
       "      <td>No</td>\n",
       "      <td>male</td>\n",
       "      <td>Other</td>\n",
       "    </tr>\n",
       "    <tr>\n",
       "      <th>4</th>\n",
       "      <td>2020-11-12</td>\n",
       "      <td>0</td>\n",
       "      <td>1</td>\n",
       "      <td>0</td>\n",
       "      <td>0</td>\n",
       "      <td>0</td>\n",
       "      <td>negative</td>\n",
       "      <td>No</td>\n",
       "      <td>male</td>\n",
       "      <td>Contact with confirmed</td>\n",
       "    </tr>\n",
       "    <tr>\n",
       "      <th>...</th>\n",
       "      <td>...</td>\n",
       "      <td>...</td>\n",
       "      <td>...</td>\n",
       "      <td>...</td>\n",
       "      <td>...</td>\n",
       "      <td>...</td>\n",
       "      <td>...</td>\n",
       "      <td>...</td>\n",
       "      <td>...</td>\n",
       "      <td>...</td>\n",
       "    </tr>\n",
       "    <tr>\n",
       "      <th>2742591</th>\n",
       "      <td>2020-03-11</td>\n",
       "      <td>0</td>\n",
       "      <td>0</td>\n",
       "      <td>0</td>\n",
       "      <td>0</td>\n",
       "      <td>0</td>\n",
       "      <td>negative</td>\n",
       "      <td>NaN</td>\n",
       "      <td>female</td>\n",
       "      <td>Other</td>\n",
       "    </tr>\n",
       "    <tr>\n",
       "      <th>2742592</th>\n",
       "      <td>2020-03-11</td>\n",
       "      <td>0</td>\n",
       "      <td>0</td>\n",
       "      <td>0</td>\n",
       "      <td>0</td>\n",
       "      <td>0</td>\n",
       "      <td>negative</td>\n",
       "      <td>NaN</td>\n",
       "      <td>female</td>\n",
       "      <td>Other</td>\n",
       "    </tr>\n",
       "    <tr>\n",
       "      <th>2742593</th>\n",
       "      <td>2020-03-11</td>\n",
       "      <td>0</td>\n",
       "      <td>0</td>\n",
       "      <td>0</td>\n",
       "      <td>0</td>\n",
       "      <td>0</td>\n",
       "      <td>other</td>\n",
       "      <td>NaN</td>\n",
       "      <td>male</td>\n",
       "      <td>Other</td>\n",
       "    </tr>\n",
       "    <tr>\n",
       "      <th>2742594</th>\n",
       "      <td>2020-03-11</td>\n",
       "      <td>0</td>\n",
       "      <td>0</td>\n",
       "      <td>0</td>\n",
       "      <td>0</td>\n",
       "      <td>0</td>\n",
       "      <td>negative</td>\n",
       "      <td>NaN</td>\n",
       "      <td>female</td>\n",
       "      <td>Other</td>\n",
       "    </tr>\n",
       "    <tr>\n",
       "      <th>2742595</th>\n",
       "      <td>2020-03-11</td>\n",
       "      <td>0</td>\n",
       "      <td>1</td>\n",
       "      <td>0</td>\n",
       "      <td>0</td>\n",
       "      <td>0</td>\n",
       "      <td>negative</td>\n",
       "      <td>NaN</td>\n",
       "      <td>male</td>\n",
       "      <td>Other</td>\n",
       "    </tr>\n",
       "  </tbody>\n",
       "</table>\n",
       "<p>2742596 rows × 10 columns</p>\n",
       "</div>"
      ],
      "text/plain": [
       "          test_date  cough  fever  sore_throat  shortness_of_breath  \\\n",
       "0        2020-11-12      0      0            0                    0   \n",
       "1        2020-11-12      0      1            0                    0   \n",
       "2        2020-11-12      0      0            0                    0   \n",
       "3        2020-11-12      0      0            0                    0   \n",
       "4        2020-11-12      0      1            0                    0   \n",
       "...             ...    ...    ...          ...                  ...   \n",
       "2742591  2020-03-11      0      0            0                    0   \n",
       "2742592  2020-03-11      0      0            0                    0   \n",
       "2742593  2020-03-11      0      0            0                    0   \n",
       "2742594  2020-03-11      0      0            0                    0   \n",
       "2742595  2020-03-11      0      1            0                    0   \n",
       "\n",
       "         head_ache corona_result age_60_and_above  gender  \\\n",
       "0                0      negative               No    male   \n",
       "1                0      negative               No    male   \n",
       "2                0      negative              Yes  female   \n",
       "3                0      negative               No    male   \n",
       "4                0      negative               No    male   \n",
       "...            ...           ...              ...     ...   \n",
       "2742591          0      negative              NaN  female   \n",
       "2742592          0      negative              NaN  female   \n",
       "2742593          0         other              NaN    male   \n",
       "2742594          0      negative              NaN  female   \n",
       "2742595          0      negative              NaN    male   \n",
       "\n",
       "                test_indication  \n",
       "0                         Other  \n",
       "1                         Other  \n",
       "2                         Other  \n",
       "3                         Other  \n",
       "4        Contact with confirmed  \n",
       "...                         ...  \n",
       "2742591                   Other  \n",
       "2742592                   Other  \n",
       "2742593                   Other  \n",
       "2742594                   Other  \n",
       "2742595                   Other  \n",
       "\n",
       "[2742596 rows x 10 columns]"
      ]
     },
     "execution_count": 7,
     "metadata": {},
     "output_type": "execute_result"
    }
   ],
   "source": [
    "df"
   ]
  },
  {
   "cell_type": "code",
   "execution_count": 8,
   "id": "558094cc",
   "metadata": {},
   "outputs": [
    {
     "data": {
      "text/plain": [
       "(2742596, 10)"
      ]
     },
     "execution_count": 8,
     "metadata": {},
     "output_type": "execute_result"
    }
   ],
   "source": [
    "df.shape"
   ]
  },
  {
   "cell_type": "code",
   "execution_count": 9,
   "id": "f1143994",
   "metadata": {},
   "outputs": [
    {
     "data": {
      "text/plain": [
       "Index(['test_date', 'cough', 'fever', 'sore_throat', 'shortness_of_breath',\n",
       "       'head_ache', 'corona_result', 'age_60_and_above', 'gender',\n",
       "       'test_indication'],\n",
       "      dtype='object')"
      ]
     },
     "execution_count": 9,
     "metadata": {},
     "output_type": "execute_result"
    }
   ],
   "source": [
    "df.columns"
   ]
  },
  {
   "cell_type": "code",
   "execution_count": 10,
   "id": "621c5d01",
   "metadata": {},
   "outputs": [
    {
     "name": "stdout",
     "output_type": "stream",
     "text": [
      "<class 'pandas.core.frame.DataFrame'>\n",
      "RangeIndex: 2742596 entries, 0 to 2742595\n",
      "Data columns (total 10 columns):\n",
      " #   Column               Dtype \n",
      "---  ------               ----- \n",
      " 0   test_date            object\n",
      " 1   cough                int64 \n",
      " 2   fever                int64 \n",
      " 3   sore_throat          int64 \n",
      " 4   shortness_of_breath  int64 \n",
      " 5   head_ache            int64 \n",
      " 6   corona_result        object\n",
      " 7   age_60_and_above     object\n",
      " 8   gender               object\n",
      " 9   test_indication      object\n",
      "dtypes: int64(5), object(5)\n",
      "memory usage: 209.2+ MB\n"
     ]
    }
   ],
   "source": [
    "df.info()"
   ]
  },
  {
   "cell_type": "markdown",
   "id": "75eb987c",
   "metadata": {},
   "source": [
    "# Dataset Discription"
   ]
  },
  {
   "cell_type": "markdown",
   "id": "e5ecd71d",
   "metadata": {},
   "source": [
    "1. test_date ==> Date for covid 19 test \n",
    "2. cught ==> is the patience having cough or not (binary variable yes=1, no=0)\n",
    "3. fever ==> is the patience having fever or not (binary variable yes=1, no=0)\n",
    "4. sore_throat ==> is the patience having sore_throat or not (binary variable yes=1, no=0)\n",
    "5. shortness_of_breadth ==> is the patience having shortness_of_breadth or not (binary variable yes=1, no=0)\n",
    "6. head_ache ==> is the patience having head_ache or not (binary variable yes=1, no=0)\n",
    "7. corona_result ==> is the patience having corona_result or not (categorical variable -ve for covid,+ve for covid, other=> no confirmation with covid or not)  *self encoded* **(1= +ve, 0= -ve)**\n",
    "8. gender ==> is the patience having gender or not (categorical variable male,female)   *self encoded* **(1= male, 0=female)**\n",
    "9. test_indication ==> is the patience having gender or not (categorical variable contact_with_confirm=> covid due to contact of covid 19 person, abord=> covid in other country, other=>no idea about covid infection)"
   ]
  },
  {
   "cell_type": "code",
   "execution_count": 11,
   "id": "2f1f0683",
   "metadata": {},
   "outputs": [],
   "source": [
    "pd.set_option('display.float_format', lambda x: '%.3f' % x)"
   ]
  },
  {
   "cell_type": "markdown",
   "id": "89c5accd",
   "metadata": {},
   "source": [
    "# Descriptive statistics "
   ]
  },
  {
   "cell_type": "code",
   "execution_count": 12,
   "id": "9ee55fb7",
   "metadata": {},
   "outputs": [
    {
     "data": {
      "text/html": [
       "<div>\n",
       "<style scoped>\n",
       "    .dataframe tbody tr th:only-of-type {\n",
       "        vertical-align: middle;\n",
       "    }\n",
       "\n",
       "    .dataframe tbody tr th {\n",
       "        vertical-align: top;\n",
       "    }\n",
       "\n",
       "    .dataframe thead th {\n",
       "        text-align: right;\n",
       "    }\n",
       "</style>\n",
       "<table border=\"1\" class=\"dataframe\">\n",
       "  <thead>\n",
       "    <tr style=\"text-align: right;\">\n",
       "      <th></th>\n",
       "      <th>cough</th>\n",
       "      <th>fever</th>\n",
       "      <th>sore_throat</th>\n",
       "      <th>shortness_of_breath</th>\n",
       "      <th>head_ache</th>\n",
       "    </tr>\n",
       "  </thead>\n",
       "  <tbody>\n",
       "    <tr>\n",
       "      <th>count</th>\n",
       "      <td>2742596.000</td>\n",
       "      <td>2742596.000</td>\n",
       "      <td>2742596.000</td>\n",
       "      <td>2742596.000</td>\n",
       "      <td>2742596.000</td>\n",
       "    </tr>\n",
       "    <tr>\n",
       "      <th>mean</th>\n",
       "      <td>0.041</td>\n",
       "      <td>0.035</td>\n",
       "      <td>0.011</td>\n",
       "      <td>0.004</td>\n",
       "      <td>0.022</td>\n",
       "    </tr>\n",
       "    <tr>\n",
       "      <th>std</th>\n",
       "      <td>0.197</td>\n",
       "      <td>0.185</td>\n",
       "      <td>0.104</td>\n",
       "      <td>0.063</td>\n",
       "      <td>0.146</td>\n",
       "    </tr>\n",
       "    <tr>\n",
       "      <th>min</th>\n",
       "      <td>0.000</td>\n",
       "      <td>0.000</td>\n",
       "      <td>0.000</td>\n",
       "      <td>0.000</td>\n",
       "      <td>0.000</td>\n",
       "    </tr>\n",
       "    <tr>\n",
       "      <th>25%</th>\n",
       "      <td>0.000</td>\n",
       "      <td>0.000</td>\n",
       "      <td>0.000</td>\n",
       "      <td>0.000</td>\n",
       "      <td>0.000</td>\n",
       "    </tr>\n",
       "    <tr>\n",
       "      <th>50%</th>\n",
       "      <td>0.000</td>\n",
       "      <td>0.000</td>\n",
       "      <td>0.000</td>\n",
       "      <td>0.000</td>\n",
       "      <td>0.000</td>\n",
       "    </tr>\n",
       "    <tr>\n",
       "      <th>75%</th>\n",
       "      <td>0.000</td>\n",
       "      <td>0.000</td>\n",
       "      <td>0.000</td>\n",
       "      <td>0.000</td>\n",
       "      <td>0.000</td>\n",
       "    </tr>\n",
       "    <tr>\n",
       "      <th>max</th>\n",
       "      <td>1.000</td>\n",
       "      <td>1.000</td>\n",
       "      <td>1.000</td>\n",
       "      <td>1.000</td>\n",
       "      <td>1.000</td>\n",
       "    </tr>\n",
       "  </tbody>\n",
       "</table>\n",
       "</div>"
      ],
      "text/plain": [
       "            cough       fever  sore_throat  shortness_of_breath   head_ache\n",
       "count 2742596.000 2742596.000  2742596.000          2742596.000 2742596.000\n",
       "mean        0.041       0.035        0.011                0.004       0.022\n",
       "std         0.197       0.185        0.104                0.063       0.146\n",
       "min         0.000       0.000        0.000                0.000       0.000\n",
       "25%         0.000       0.000        0.000                0.000       0.000\n",
       "50%         0.000       0.000        0.000                0.000       0.000\n",
       "75%         0.000       0.000        0.000                0.000       0.000\n",
       "max         1.000       1.000        1.000                1.000       1.000"
      ]
     },
     "execution_count": 12,
     "metadata": {},
     "output_type": "execute_result"
    }
   ],
   "source": [
    "df.describe()"
   ]
  },
  {
   "cell_type": "markdown",
   "id": "649dd178",
   "metadata": {},
   "source": [
    "1. as we have already encoded data in binary form so there is no need to worry about th2.e outliers and statistical analysis\n",
    "2. the remaningin data is also in categorical form hence we have to encode that data in same way."
   ]
  },
  {
   "cell_type": "markdown",
   "id": "369496ac",
   "metadata": {},
   "source": [
    "# Null value imputation"
   ]
  },
  {
   "cell_type": "code",
   "execution_count": 13,
   "id": "76b4735d",
   "metadata": {},
   "outputs": [],
   "source": [
    "def features_unique(feature):\n",
    "    print('Feature is : ',feature)\n",
    "    print('\\nValue count of feature with unique values are : ')\n",
    "    print(df[feature].value_counts())\n",
    "    \n",
    "    print('\\nNull values in {} are : '.format(feature))\n",
    "    print(df[feature].isna().sum(),'\\n')    \n",
    "    \n",
    "    print('='*50)\n",
    "    print('\\n')\n",
    "    "
   ]
  },
  {
   "cell_type": "code",
   "execution_count": 14,
   "id": "fc1b9a18",
   "metadata": {},
   "outputs": [
    {
     "name": "stdout",
     "output_type": "stream",
     "text": [
      "Feature is :  test_date\n",
      "\n",
      "Value count of feature with unique values are : \n",
      "2020-09-17    36557\n",
      "2020-09-24    33271\n",
      "2020-09-22    32491\n",
      "2020-09-23    32331\n",
      "2020-09-15    31323\n",
      "              ...  \n",
      "2020-03-14      732\n",
      "2020-05-16      703\n",
      "2020-03-12      636\n",
      "2020-05-23      597\n",
      "2020-03-11      365\n",
      "Name: test_date, Length: 247, dtype: int64\n",
      "\n",
      "Null values in test_date are : \n",
      "0 \n",
      "\n",
      "==================================================\n",
      "\n",
      "\n",
      "Feature is :  cough\n",
      "\n",
      "Value count of feature with unique values are : \n",
      "0    2631258\n",
      "1     111338\n",
      "Name: cough, dtype: int64\n",
      "\n",
      "Null values in cough are : \n",
      "0 \n",
      "\n",
      "==================================================\n",
      "\n",
      "\n",
      "Feature is :  fever\n",
      "\n",
      "Value count of feature with unique values are : \n",
      "0    2645600\n",
      "1      96996\n",
      "Name: fever, dtype: int64\n",
      "\n",
      "Null values in fever are : \n",
      "0 \n",
      "\n",
      "==================================================\n",
      "\n",
      "\n",
      "Feature is :  sore_throat\n",
      "\n",
      "Value count of feature with unique values are : \n",
      "0    2712512\n",
      "1      30084\n",
      "Name: sore_throat, dtype: int64\n",
      "\n",
      "Null values in sore_throat are : \n",
      "0 \n",
      "\n",
      "==================================================\n",
      "\n",
      "\n",
      "Feature is :  shortness_of_breath\n",
      "\n",
      "Value count of feature with unique values are : \n",
      "0    2731579\n",
      "1      11017\n",
      "Name: shortness_of_breath, dtype: int64\n",
      "\n",
      "Null values in shortness_of_breath are : \n",
      "0 \n",
      "\n",
      "==================================================\n",
      "\n",
      "\n",
      "Feature is :  head_ache\n",
      "\n",
      "Value count of feature with unique values are : \n",
      "0    2682655\n",
      "1      59941\n",
      "Name: head_ache, dtype: int64\n",
      "\n",
      "Null values in head_ache are : \n",
      "0 \n",
      "\n",
      "==================================================\n",
      "\n",
      "\n",
      "Feature is :  corona_result\n",
      "\n",
      "Value count of feature with unique values are : \n",
      "negative    2480403\n",
      "positive     220975\n",
      "other         41218\n",
      "Name: corona_result, dtype: int64\n",
      "\n",
      "Null values in corona_result are : \n",
      "0 \n",
      "\n",
      "==================================================\n",
      "\n",
      "\n",
      "Feature is :  age_60_and_above\n",
      "\n",
      "Value count of feature with unique values are : \n",
      "No     1908553\n",
      "Yes     286399\n",
      "Name: age_60_and_above, dtype: int64\n",
      "\n",
      "Null values in age_60_and_above are : \n",
      "547644 \n",
      "\n",
      "==================================================\n",
      "\n",
      "\n",
      "Feature is :  gender\n",
      "\n",
      "Value count of feature with unique values are : \n",
      "female    1371444\n",
      "male      1278266\n",
      "Name: gender, dtype: int64\n",
      "\n",
      "Null values in gender are : \n",
      "92886 \n",
      "\n",
      "==================================================\n",
      "\n",
      "\n",
      "Feature is :  test_indication\n",
      "\n",
      "Value count of feature with unique values are : \n",
      "Other                     2547559\n",
      "Contact with confirmed     170742\n",
      "Abroad                      24295\n",
      "Name: test_indication, dtype: int64\n",
      "\n",
      "Null values in test_indication are : \n",
      "0 \n",
      "\n",
      "==================================================\n",
      "\n",
      "\n"
     ]
    }
   ],
   "source": [
    "for i in df.columns:\n",
    "    features_unique(i)"
   ]
  },
  {
   "cell_type": "code",
   "execution_count": 15,
   "id": "0523f72c",
   "metadata": {},
   "outputs": [],
   "source": [
    "null_age = df.age_60_and_above.isnull().sum()\n",
    "null_gender = df.gender.isnull().sum()"
   ]
  },
  {
   "cell_type": "code",
   "execution_count": 16,
   "id": "b15264db",
   "metadata": {},
   "outputs": [
    {
     "name": "stdout",
     "output_type": "stream",
     "text": [
      "Total data in dataset :  2742596\n",
      "Total null values in dataset :  640530\n",
      "Total data remains if we remove all null values =  2102066\n",
      "23.354879829183737 % of null data is present in the dataset.\n"
     ]
    }
   ],
   "source": [
    "total_null = null_age+null_gender\n",
    "print('Total data in dataset : ' , df.shape[0])\n",
    "print('Total null values in dataset : ' , total_null)\n",
    "\n",
    "print('Total data remains if we remove all null values = ', df.shape[0]-total_null)\n",
    "print('{} % of null data is present in the dataset.'.format(total_null * 100 / df.shape[0]))"
   ]
  },
  {
   "cell_type": "markdown",
   "id": "9f5aeb7d",
   "metadata": {},
   "source": [
    "- as the null values are present in very useful and main features hence we can't fill that null values directly.\n",
    "- fill null vlaues may lead to improper prediction and it will impact more.\n",
    "- so as we have too much data it is ok if we drop that null values. except the null values are more than 5%."
   ]
  },
  {
   "cell_type": "markdown",
   "id": "db240ffe",
   "metadata": {},
   "source": [
    "# Univariate data analysis -"
   ]
  },
  {
   "cell_type": "markdown",
   "id": "e616412d",
   "metadata": {},
   "source": [
    "#### as we have only categorical data then there is no way to use different statistics technique and outliers detection"
   ]
  },
  {
   "cell_type": "code",
   "execution_count": 17,
   "id": "dbc32e74",
   "metadata": {},
   "outputs": [],
   "source": [
    "def univaritae_analysis(feature):\n",
    "    print('='*50)\n",
    "    print('\\n', feature)\n",
    "    print('\\n Unique categorical values :')\n",
    "    print(df[feature].nunique())\n",
    "    print('\\n unique categorical values with count :')\n",
    "    print(df[feature].value_counts())    \n",
    "    print('\\n Null values ')\n",
    "    print(df[feature].isna().sum())      \n"
   ]
  },
  {
   "cell_type": "code",
   "execution_count": 18,
   "id": "b2d92366",
   "metadata": {},
   "outputs": [
    {
     "name": "stdout",
     "output_type": "stream",
     "text": [
      "==================================================\n",
      "\n",
      " test_date\n",
      "\n",
      " Unique categorical values :\n",
      "247\n",
      "\n",
      " unique categorical values with count :\n",
      "2020-09-17    36557\n",
      "2020-09-24    33271\n",
      "2020-09-22    32491\n",
      "2020-09-23    32331\n",
      "2020-09-15    31323\n",
      "              ...  \n",
      "2020-03-14      732\n",
      "2020-05-16      703\n",
      "2020-03-12      636\n",
      "2020-05-23      597\n",
      "2020-03-11      365\n",
      "Name: test_date, Length: 247, dtype: int64\n",
      "\n",
      " Null values \n",
      "0\n",
      "==================================================\n",
      "\n",
      " cough\n",
      "\n",
      " Unique categorical values :\n",
      "2\n",
      "\n",
      " unique categorical values with count :\n",
      "0    2631258\n",
      "1     111338\n",
      "Name: cough, dtype: int64\n",
      "\n",
      " Null values \n",
      "0\n",
      "==================================================\n",
      "\n",
      " fever\n",
      "\n",
      " Unique categorical values :\n",
      "2\n",
      "\n",
      " unique categorical values with count :\n",
      "0    2645600\n",
      "1      96996\n",
      "Name: fever, dtype: int64\n",
      "\n",
      " Null values \n",
      "0\n",
      "==================================================\n",
      "\n",
      " sore_throat\n",
      "\n",
      " Unique categorical values :\n",
      "2\n",
      "\n",
      " unique categorical values with count :\n",
      "0    2712512\n",
      "1      30084\n",
      "Name: sore_throat, dtype: int64\n",
      "\n",
      " Null values \n",
      "0\n",
      "==================================================\n",
      "\n",
      " shortness_of_breath\n",
      "\n",
      " Unique categorical values :\n",
      "2\n",
      "\n",
      " unique categorical values with count :\n",
      "0    2731579\n",
      "1      11017\n",
      "Name: shortness_of_breath, dtype: int64\n",
      "\n",
      " Null values \n",
      "0\n",
      "==================================================\n",
      "\n",
      " head_ache\n",
      "\n",
      " Unique categorical values :\n",
      "2\n",
      "\n",
      " unique categorical values with count :\n",
      "0    2682655\n",
      "1      59941\n",
      "Name: head_ache, dtype: int64\n",
      "\n",
      " Null values \n",
      "0\n",
      "==================================================\n",
      "\n",
      " corona_result\n",
      "\n",
      " Unique categorical values :\n",
      "3\n",
      "\n",
      " unique categorical values with count :\n",
      "negative    2480403\n",
      "positive     220975\n",
      "other         41218\n",
      "Name: corona_result, dtype: int64\n",
      "\n",
      " Null values \n",
      "0\n",
      "==================================================\n",
      "\n",
      " age_60_and_above\n",
      "\n",
      " Unique categorical values :\n",
      "2\n",
      "\n",
      " unique categorical values with count :\n",
      "No     1908553\n",
      "Yes     286399\n",
      "Name: age_60_and_above, dtype: int64\n",
      "\n",
      " Null values \n",
      "547644\n",
      "==================================================\n",
      "\n",
      " gender\n",
      "\n",
      " Unique categorical values :\n",
      "2\n",
      "\n",
      " unique categorical values with count :\n",
      "female    1371444\n",
      "male      1278266\n",
      "Name: gender, dtype: int64\n",
      "\n",
      " Null values \n",
      "92886\n",
      "==================================================\n",
      "\n",
      " test_indication\n",
      "\n",
      " Unique categorical values :\n",
      "3\n",
      "\n",
      " unique categorical values with count :\n",
      "Other                     2547559\n",
      "Contact with confirmed     170742\n",
      "Abroad                      24295\n",
      "Name: test_indication, dtype: int64\n",
      "\n",
      " Null values \n",
      "0\n"
     ]
    }
   ],
   "source": [
    "for i in df.columns:\n",
    "    univaritae_analysis(i)"
   ]
  },
  {
   "cell_type": "markdown",
   "id": "10253c9b",
   "metadata": {},
   "source": [
    "- as the gender and age feature contains many null values as i mentioned above also so after talking with Guide and group members final decision is to drop these null values directly.\n",
    "\n",
    "- date feature is useless for our prediction as it contains the date of covid test \n",
    "\n",
    "- the covid result with category **others** is not for our use as it's like we can't say if you have covid or not ( which is not our aim )\n",
    "\n",
    "- the column names as test indication is after the covid test whic means that how the patience is affected by covid ( so for this one we can use this like travel history out of india or had patience meet someone who found covid +ve ). but as per me it is not fesible feature for covid 19 result."
   ]
  },
  {
   "cell_type": "code",
   "execution_count": 19,
   "id": "7236bd13",
   "metadata": {},
   "outputs": [],
   "source": [
    "df.dropna(inplace=True)"
   ]
  },
  {
   "cell_type": "code",
   "execution_count": 20,
   "id": "5dc1921c",
   "metadata": {},
   "outputs": [
    {
     "data": {
      "text/plain": [
       "test_date              0\n",
       "cough                  0\n",
       "fever                  0\n",
       "sore_throat            0\n",
       "shortness_of_breath    0\n",
       "head_ache              0\n",
       "corona_result          0\n",
       "age_60_and_above       0\n",
       "gender                 0\n",
       "test_indication        0\n",
       "dtype: int64"
      ]
     },
     "execution_count": 20,
     "metadata": {},
     "output_type": "execute_result"
    }
   ],
   "source": [
    "df.isna().sum()"
   ]
  },
  {
   "cell_type": "markdown",
   "id": "6c470995",
   "metadata": {},
   "source": [
    "- Now we are left with all the data without null values"
   ]
  },
  {
   "cell_type": "code",
   "execution_count": null,
   "id": "5736cfd3",
   "metadata": {},
   "outputs": [],
   "source": []
  },
  {
   "cell_type": "markdown",
   "id": "23c3371f",
   "metadata": {},
   "source": [
    "# Bivariat data analysis -"
   ]
  },
  {
   "cell_type": "markdown",
   "id": "c5630254",
   "metadata": {},
   "source": [
    "## due to large amount of data all the visulisation part is done in Tableau Bi tool."
   ]
  },
  {
   "attachments": {
    "16d559d4-7b89-4028-a4eb-62c6ef508b36.PNG": {
     "image/png": "[encoded data removed]"
    }
   },
   "cell_type": "markdown",
   "id": "ea9d19dc",
   "metadata": {},
   "source": [
    "![covidmp3 img.PNG](attachment:16d559d4-7b89-4028-a4eb-62c6ef508b36.PNG)"
   ]
  },
  {
   "cell_type": "markdown",
   "id": "1433173a",
   "metadata": {},
   "source": [
    "# Multivariate data analysis -"
   ]
  },
  {
   "cell_type": "code",
   "execution_count": 21,
   "id": "ad3b7991",
   "metadata": {},
   "outputs": [
    {
     "data": {
      "text/plain": [
       "<AxesSubplot:>"
      ]
     },
     "execution_count": 21,
     "metadata": {},
     "output_type": "execute_result"
    },
    {
     "data": {
      "image/png": "[encoded data removed]",
      "text/plain": [
       "<Figure size 432x288 with 2 Axes>"
      ]
     },
     "metadata": {
      "needs_background": "light"
     },
     "output_type": "display_data"
    }
   ],
   "source": [
    "sns.heatmap(df.corr())"
   ]
  },
  {
   "cell_type": "code",
   "execution_count": 22,
   "id": "eb221c74",
   "metadata": {},
   "outputs": [
    {
     "data": {
      "text/html": [
       "<div>\n",
       "<style scoped>\n",
       "    .dataframe tbody tr th:only-of-type {\n",
       "        vertical-align: middle;\n",
       "    }\n",
       "\n",
       "    .dataframe tbody tr th {\n",
       "        vertical-align: top;\n",
       "    }\n",
       "\n",
       "    .dataframe thead th {\n",
       "        text-align: right;\n",
       "    }\n",
       "</style>\n",
       "<table border=\"1\" class=\"dataframe\">\n",
       "  <thead>\n",
       "    <tr style=\"text-align: right;\">\n",
       "      <th></th>\n",
       "      <th>cough</th>\n",
       "      <th>fever</th>\n",
       "      <th>sore_throat</th>\n",
       "      <th>shortness_of_breath</th>\n",
       "      <th>head_ache</th>\n",
       "    </tr>\n",
       "  </thead>\n",
       "  <tbody>\n",
       "    <tr>\n",
       "      <th>cough</th>\n",
       "      <td>1.000</td>\n",
       "      <td>0.384</td>\n",
       "      <td>0.217</td>\n",
       "      <td>0.170</td>\n",
       "      <td>0.249</td>\n",
       "    </tr>\n",
       "    <tr>\n",
       "      <th>fever</th>\n",
       "      <td>0.384</td>\n",
       "      <td>1.000</td>\n",
       "      <td>0.207</td>\n",
       "      <td>0.147</td>\n",
       "      <td>0.303</td>\n",
       "    </tr>\n",
       "    <tr>\n",
       "      <th>sore_throat</th>\n",
       "      <td>0.217</td>\n",
       "      <td>0.207</td>\n",
       "      <td>1.000</td>\n",
       "      <td>0.142</td>\n",
       "      <td>0.314</td>\n",
       "    </tr>\n",
       "    <tr>\n",
       "      <th>shortness_of_breath</th>\n",
       "      <td>0.170</td>\n",
       "      <td>0.147</td>\n",
       "      <td>0.142</td>\n",
       "      <td>1.000</td>\n",
       "      <td>0.162</td>\n",
       "    </tr>\n",
       "    <tr>\n",
       "      <th>head_ache</th>\n",
       "      <td>0.249</td>\n",
       "      <td>0.303</td>\n",
       "      <td>0.314</td>\n",
       "      <td>0.162</td>\n",
       "      <td>1.000</td>\n",
       "    </tr>\n",
       "  </tbody>\n",
       "</table>\n",
       "</div>"
      ],
      "text/plain": [
       "                     cough  fever  sore_throat  shortness_of_breath  head_ache\n",
       "cough                1.000  0.384        0.217                0.170      0.249\n",
       "fever                0.384  1.000        0.207                0.147      0.303\n",
       "sore_throat          0.217  0.207        1.000                0.142      0.314\n",
       "shortness_of_breath  0.170  0.147        0.142                1.000      0.162\n",
       "head_ache            0.249  0.303        0.314                0.162      1.000"
      ]
     },
     "execution_count": 22,
     "metadata": {},
     "output_type": "execute_result"
    }
   ],
   "source": [
    "df.corr() # method pearson"
   ]
  },
  {
   "cell_type": "code",
   "execution_count": 23,
   "id": "c4edf41b",
   "metadata": {},
   "outputs": [
    {
     "data": {
      "text/html": [
       "<div>\n",
       "<style scoped>\n",
       "    .dataframe tbody tr th:only-of-type {\n",
       "        vertical-align: middle;\n",
       "    }\n",
       "\n",
       "    .dataframe tbody tr th {\n",
       "        vertical-align: top;\n",
       "    }\n",
       "\n",
       "    .dataframe thead th {\n",
       "        text-align: right;\n",
       "    }\n",
       "</style>\n",
       "<table border=\"1\" class=\"dataframe\">\n",
       "  <thead>\n",
       "    <tr style=\"text-align: right;\">\n",
       "      <th></th>\n",
       "      <th>cough</th>\n",
       "      <th>fever</th>\n",
       "      <th>sore_throat</th>\n",
       "      <th>shortness_of_breath</th>\n",
       "      <th>head_ache</th>\n",
       "    </tr>\n",
       "  </thead>\n",
       "  <tbody>\n",
       "    <tr>\n",
       "      <th>cough</th>\n",
       "      <td>1.000</td>\n",
       "      <td>0.384</td>\n",
       "      <td>0.217</td>\n",
       "      <td>0.170</td>\n",
       "      <td>0.249</td>\n",
       "    </tr>\n",
       "    <tr>\n",
       "      <th>fever</th>\n",
       "      <td>0.384</td>\n",
       "      <td>1.000</td>\n",
       "      <td>0.207</td>\n",
       "      <td>0.147</td>\n",
       "      <td>0.303</td>\n",
       "    </tr>\n",
       "    <tr>\n",
       "      <th>sore_throat</th>\n",
       "      <td>0.217</td>\n",
       "      <td>0.207</td>\n",
       "      <td>1.000</td>\n",
       "      <td>0.142</td>\n",
       "      <td>0.314</td>\n",
       "    </tr>\n",
       "    <tr>\n",
       "      <th>shortness_of_breath</th>\n",
       "      <td>0.170</td>\n",
       "      <td>0.147</td>\n",
       "      <td>0.142</td>\n",
       "      <td>1.000</td>\n",
       "      <td>0.162</td>\n",
       "    </tr>\n",
       "    <tr>\n",
       "      <th>head_ache</th>\n",
       "      <td>0.249</td>\n",
       "      <td>0.303</td>\n",
       "      <td>0.314</td>\n",
       "      <td>0.162</td>\n",
       "      <td>1.000</td>\n",
       "    </tr>\n",
       "  </tbody>\n",
       "</table>\n",
       "</div>"
      ],
      "text/plain": [
       "                     cough  fever  sore_throat  shortness_of_breath  head_ache\n",
       "cough                1.000  0.384        0.217                0.170      0.249\n",
       "fever                0.384  1.000        0.207                0.147      0.303\n",
       "sore_throat          0.217  0.207        1.000                0.142      0.314\n",
       "shortness_of_breath  0.170  0.147        0.142                1.000      0.162\n",
       "head_ache            0.249  0.303        0.314                0.162      1.000"
      ]
     },
     "execution_count": 23,
     "metadata": {},
     "output_type": "execute_result"
    }
   ],
   "source": [
    "df.corr(method='spearman')"
   ]
  },
  {
   "cell_type": "markdown",
   "id": "8e85edbe",
   "metadata": {},
   "source": [
    "1. by seeing the correlation matrix there is no strong corelation between featurs and it is because of categorical data "
   ]
  },
  {
   "cell_type": "code",
   "execution_count": null,
   "id": "93b42e03",
   "metadata": {},
   "outputs": [],
   "source": []
  },
  {
   "cell_type": "markdown",
   "id": "c77b105a",
   "metadata": {},
   "source": [
    "# Data Preprocessing -\n",
    "## 1. Feature elemination"
   ]
  },
  {
   "cell_type": "code",
   "execution_count": 24,
   "id": "41b69b59",
   "metadata": {},
   "outputs": [],
   "source": [
    "# feature is not for our use as it consist of covid19 test date\n",
    "df.drop('test_date',axis=1,inplace= True) "
   ]
  },
  {
   "cell_type": "code",
   "execution_count": 25,
   "id": "8b16b9d4",
   "metadata": {},
   "outputs": [],
   "source": [
    "# feature is not for our use as the data entered is after covid result.\n",
    "df.drop('test_indication',axis=1,inplace=True)"
   ]
  },
  {
   "cell_type": "code",
   "execution_count": null,
   "id": "6d533946",
   "metadata": {},
   "outputs": [],
   "source": []
  },
  {
   "cell_type": "markdown",
   "id": "6c021ea9",
   "metadata": {},
   "source": [
    "## 2. Feature encoding "
   ]
  },
  {
   "cell_type": "code",
   "execution_count": 26,
   "id": "b3af6a5d",
   "metadata": {},
   "outputs": [],
   "source": [
    "binary = {'Yes': 1, 'No': 0}\n",
    "df['age_60_and_above'] = df['age_60_and_above'].map(binary)"
   ]
  },
  {
   "cell_type": "code",
   "execution_count": 27,
   "id": "bca2fcde",
   "metadata": {},
   "outputs": [],
   "source": [
    "le = LabelEncoder()"
   ]
  },
  {
   "cell_type": "code",
   "execution_count": 28,
   "id": "2de014b4",
   "metadata": {},
   "outputs": [],
   "source": [
    "df['gender'] = le.fit_transform(df['gender'])"
   ]
  },
  {
   "cell_type": "code",
   "execution_count": null,
   "id": "5e89a008",
   "metadata": {},
   "outputs": [],
   "source": []
  },
  {
   "cell_type": "code",
   "execution_count": 29,
   "id": "d33bae8f",
   "metadata": {},
   "outputs": [
    {
     "data": {
      "text/plain": [
       "negative    1943172\n",
       "positive     208726\n",
       "other         34329\n",
       "Name: corona_result, dtype: int64"
      ]
     },
     "execution_count": 29,
     "metadata": {},
     "output_type": "execute_result"
    }
   ],
   "source": [
    "df['corona_result'].value_counts()"
   ]
  },
  {
   "cell_type": "markdown",
   "id": "f1cfcb84",
   "metadata": {},
   "source": [
    "- **other** category is not for our use as it is indicating we can't say do you have covid19 or not"
   ]
  },
  {
   "cell_type": "code",
   "execution_count": 30,
   "id": "1173027b",
   "metadata": {},
   "outputs": [],
   "source": [
    "df.drop(df[df['corona_result']=='other'].index,inplace=True)"
   ]
  },
  {
   "cell_type": "code",
   "execution_count": 31,
   "id": "f4887fc4",
   "metadata": {},
   "outputs": [
    {
     "data": {
      "text/plain": [
       "2151898"
      ]
     },
     "execution_count": 31,
     "metadata": {},
     "output_type": "execute_result"
    }
   ],
   "source": [
    "df.shape[0]"
   ]
  },
  {
   "cell_type": "code",
   "execution_count": 32,
   "id": "0d1561cc",
   "metadata": {},
   "outputs": [
    {
     "data": {
      "text/html": [
       "<div>\n",
       "<style scoped>\n",
       "    .dataframe tbody tr th:only-of-type {\n",
       "        vertical-align: middle;\n",
       "    }\n",
       "\n",
       "    .dataframe tbody tr th {\n",
       "        vertical-align: top;\n",
       "    }\n",
       "\n",
       "    .dataframe thead th {\n",
       "        text-align: right;\n",
       "    }\n",
       "</style>\n",
       "<table border=\"1\" class=\"dataframe\">\n",
       "  <thead>\n",
       "    <tr style=\"text-align: right;\">\n",
       "      <th></th>\n",
       "      <th>cough</th>\n",
       "      <th>fever</th>\n",
       "      <th>sore_throat</th>\n",
       "      <th>shortness_of_breath</th>\n",
       "      <th>head_ache</th>\n",
       "      <th>corona_result</th>\n",
       "      <th>age_60_and_above</th>\n",
       "      <th>gender</th>\n",
       "    </tr>\n",
       "  </thead>\n",
       "  <tbody>\n",
       "  </tbody>\n",
       "</table>\n",
       "</div>"
      ],
      "text/plain": [
       "Empty DataFrame\n",
       "Columns: [cough, fever, sore_throat, shortness_of_breath, head_ache, corona_result, age_60_and_above, gender]\n",
       "Index: []"
      ]
     },
     "execution_count": 32,
     "metadata": {},
     "output_type": "execute_result"
    }
   ],
   "source": [
    "df[df['corona_result']=='other']"
   ]
  },
  {
   "cell_type": "code",
   "execution_count": null,
   "id": "7dc5d654",
   "metadata": {},
   "outputs": [],
   "source": []
  },
  {
   "cell_type": "code",
   "execution_count": 33,
   "id": "d1ae44f7",
   "metadata": {},
   "outputs": [],
   "source": [
    "df['corona_result'] = le.fit_transform(df['corona_result'])"
   ]
  },
  {
   "cell_type": "code",
   "execution_count": 34,
   "id": "ebf60fd2",
   "metadata": {},
   "outputs": [
    {
     "data": {
      "text/html": [
       "<div>\n",
       "<style scoped>\n",
       "    .dataframe tbody tr th:only-of-type {\n",
       "        vertical-align: middle;\n",
       "    }\n",
       "\n",
       "    .dataframe tbody tr th {\n",
       "        vertical-align: top;\n",
       "    }\n",
       "\n",
       "    .dataframe thead th {\n",
       "        text-align: right;\n",
       "    }\n",
       "</style>\n",
       "<table border=\"1\" class=\"dataframe\">\n",
       "  <thead>\n",
       "    <tr style=\"text-align: right;\">\n",
       "      <th></th>\n",
       "      <th>cough</th>\n",
       "      <th>fever</th>\n",
       "      <th>sore_throat</th>\n",
       "      <th>shortness_of_breath</th>\n",
       "      <th>head_ache</th>\n",
       "      <th>corona_result</th>\n",
       "      <th>age_60_and_above</th>\n",
       "      <th>gender</th>\n",
       "    </tr>\n",
       "  </thead>\n",
       "  <tbody>\n",
       "    <tr>\n",
       "      <th>0</th>\n",
       "      <td>0</td>\n",
       "      <td>0</td>\n",
       "      <td>0</td>\n",
       "      <td>0</td>\n",
       "      <td>0</td>\n",
       "      <td>0</td>\n",
       "      <td>0</td>\n",
       "      <td>1</td>\n",
       "    </tr>\n",
       "    <tr>\n",
       "      <th>1</th>\n",
       "      <td>0</td>\n",
       "      <td>1</td>\n",
       "      <td>0</td>\n",
       "      <td>0</td>\n",
       "      <td>0</td>\n",
       "      <td>0</td>\n",
       "      <td>0</td>\n",
       "      <td>1</td>\n",
       "    </tr>\n",
       "    <tr>\n",
       "      <th>2</th>\n",
       "      <td>0</td>\n",
       "      <td>0</td>\n",
       "      <td>0</td>\n",
       "      <td>0</td>\n",
       "      <td>0</td>\n",
       "      <td>0</td>\n",
       "      <td>1</td>\n",
       "      <td>0</td>\n",
       "    </tr>\n",
       "    <tr>\n",
       "      <th>3</th>\n",
       "      <td>0</td>\n",
       "      <td>0</td>\n",
       "      <td>0</td>\n",
       "      <td>0</td>\n",
       "      <td>0</td>\n",
       "      <td>0</td>\n",
       "      <td>0</td>\n",
       "      <td>1</td>\n",
       "    </tr>\n",
       "    <tr>\n",
       "      <th>4</th>\n",
       "      <td>0</td>\n",
       "      <td>1</td>\n",
       "      <td>0</td>\n",
       "      <td>0</td>\n",
       "      <td>0</td>\n",
       "      <td>0</td>\n",
       "      <td>0</td>\n",
       "      <td>1</td>\n",
       "    </tr>\n",
       "    <tr>\n",
       "      <th>...</th>\n",
       "      <td>...</td>\n",
       "      <td>...</td>\n",
       "      <td>...</td>\n",
       "      <td>...</td>\n",
       "      <td>...</td>\n",
       "      <td>...</td>\n",
       "      <td>...</td>\n",
       "      <td>...</td>\n",
       "    </tr>\n",
       "    <tr>\n",
       "      <th>2731639</th>\n",
       "      <td>1</td>\n",
       "      <td>1</td>\n",
       "      <td>1</td>\n",
       "      <td>1</td>\n",
       "      <td>1</td>\n",
       "      <td>1</td>\n",
       "      <td>0</td>\n",
       "      <td>0</td>\n",
       "    </tr>\n",
       "    <tr>\n",
       "      <th>2731640</th>\n",
       "      <td>0</td>\n",
       "      <td>0</td>\n",
       "      <td>0</td>\n",
       "      <td>0</td>\n",
       "      <td>0</td>\n",
       "      <td>0</td>\n",
       "      <td>0</td>\n",
       "      <td>0</td>\n",
       "    </tr>\n",
       "    <tr>\n",
       "      <th>2731643</th>\n",
       "      <td>1</td>\n",
       "      <td>0</td>\n",
       "      <td>0</td>\n",
       "      <td>0</td>\n",
       "      <td>0</td>\n",
       "      <td>0</td>\n",
       "      <td>0</td>\n",
       "      <td>1</td>\n",
       "    </tr>\n",
       "    <tr>\n",
       "      <th>2731644</th>\n",
       "      <td>0</td>\n",
       "      <td>0</td>\n",
       "      <td>0</td>\n",
       "      <td>0</td>\n",
       "      <td>0</td>\n",
       "      <td>0</td>\n",
       "      <td>0</td>\n",
       "      <td>0</td>\n",
       "    </tr>\n",
       "    <tr>\n",
       "      <th>2731647</th>\n",
       "      <td>0</td>\n",
       "      <td>0</td>\n",
       "      <td>0</td>\n",
       "      <td>0</td>\n",
       "      <td>0</td>\n",
       "      <td>0</td>\n",
       "      <td>0</td>\n",
       "      <td>0</td>\n",
       "    </tr>\n",
       "  </tbody>\n",
       "</table>\n",
       "<p>2151898 rows × 8 columns</p>\n",
       "</div>"
      ],
      "text/plain": [
       "         cough  fever  sore_throat  shortness_of_breath  head_ache  \\\n",
       "0            0      0            0                    0          0   \n",
       "1            0      1            0                    0          0   \n",
       "2            0      0            0                    0          0   \n",
       "3            0      0            0                    0          0   \n",
       "4            0      1            0                    0          0   \n",
       "...        ...    ...          ...                  ...        ...   \n",
       "2731639      1      1            1                    1          1   \n",
       "2731640      0      0            0                    0          0   \n",
       "2731643      1      0            0                    0          0   \n",
       "2731644      0      0            0                    0          0   \n",
       "2731647      0      0            0                    0          0   \n",
       "\n",
       "         corona_result  age_60_and_above  gender  \n",
       "0                    0                 0       1  \n",
       "1                    0                 0       1  \n",
       "2                    0                 1       0  \n",
       "3                    0                 0       1  \n",
       "4                    0                 0       1  \n",
       "...                ...               ...     ...  \n",
       "2731639              1                 0       0  \n",
       "2731640              0                 0       0  \n",
       "2731643              0                 0       1  \n",
       "2731644              0                 0       0  \n",
       "2731647              0                 0       0  \n",
       "\n",
       "[2151898 rows x 8 columns]"
      ]
     },
     "execution_count": 34,
     "metadata": {},
     "output_type": "execute_result"
    }
   ],
   "source": [
    "df"
   ]
  },
  {
   "cell_type": "markdown",
   "id": "f50f1c66",
   "metadata": {},
   "source": [
    "#### - now our data is ready to pass the model and perform ML building."
   ]
  },
  {
   "cell_type": "code",
   "execution_count": 36,
   "id": "6a8f54b9",
   "metadata": {},
   "outputs": [
    {
     "name": "stdout",
     "output_type": "stream",
     "text": [
      "Covid +ve rate -  9.699623309283247\n"
     ]
    }
   ],
   "source": [
    "covid_pos_rate = np.sum(df.corona_result) / len(df.corona_result) *100\n",
    "print('Covid +ve rate - ',covid_pos_rate)"
   ]
  },
  {
   "cell_type": "markdown",
   "id": "19db4794",
   "metadata": {},
   "source": [
    "#### Issue - \n",
    "1. The dataset in our hand is Imbalanced dataset.\n",
    "2. The given dataset contains only 9.70 % of covid +ve data which is not sufficient for building accurate model.\n",
    "3. if we use these data then our model is highly accurate for covid -ve but not for covid +ve which is wrost condition ever.\n",
    "4. hence to maintain sensitivity, specipicity, and precision we need a balance dataset.\n",
    "5.  to balance a dataset we are going to use either undersampling of covid -ve or oversampling of covid +ve."
   ]
  },
  {
   "cell_type": "markdown",
   "id": "91194a2e",
   "metadata": {},
   "source": [
    "## Feature Selection and Model Building"
   ]
  },
  {
   "cell_type": "code",
   "execution_count": 37,
   "id": "734b44e2",
   "metadata": {},
   "outputs": [
    {
     "data": {
      "text/html": [
       "<div>\n",
       "<style scoped>\n",
       "    .dataframe tbody tr th:only-of-type {\n",
       "        vertical-align: middle;\n",
       "    }\n",
       "\n",
       "    .dataframe tbody tr th {\n",
       "        vertical-align: top;\n",
       "    }\n",
       "\n",
       "    .dataframe thead th {\n",
       "        text-align: right;\n",
       "    }\n",
       "</style>\n",
       "<table border=\"1\" class=\"dataframe\">\n",
       "  <thead>\n",
       "    <tr style=\"text-align: right;\">\n",
       "      <th></th>\n",
       "      <th>cough</th>\n",
       "      <th>fever</th>\n",
       "      <th>sore_throat</th>\n",
       "      <th>shortness_of_breath</th>\n",
       "      <th>head_ache</th>\n",
       "      <th>corona_result</th>\n",
       "      <th>age_60_and_above</th>\n",
       "      <th>gender</th>\n",
       "    </tr>\n",
       "  </thead>\n",
       "  <tbody>\n",
       "    <tr>\n",
       "      <th>0</th>\n",
       "      <td>0</td>\n",
       "      <td>0</td>\n",
       "      <td>0</td>\n",
       "      <td>0</td>\n",
       "      <td>0</td>\n",
       "      <td>0</td>\n",
       "      <td>0</td>\n",
       "      <td>1</td>\n",
       "    </tr>\n",
       "    <tr>\n",
       "      <th>1</th>\n",
       "      <td>0</td>\n",
       "      <td>1</td>\n",
       "      <td>0</td>\n",
       "      <td>0</td>\n",
       "      <td>0</td>\n",
       "      <td>0</td>\n",
       "      <td>0</td>\n",
       "      <td>1</td>\n",
       "    </tr>\n",
       "    <tr>\n",
       "      <th>2</th>\n",
       "      <td>0</td>\n",
       "      <td>0</td>\n",
       "      <td>0</td>\n",
       "      <td>0</td>\n",
       "      <td>0</td>\n",
       "      <td>0</td>\n",
       "      <td>1</td>\n",
       "      <td>0</td>\n",
       "    </tr>\n",
       "    <tr>\n",
       "      <th>3</th>\n",
       "      <td>0</td>\n",
       "      <td>0</td>\n",
       "      <td>0</td>\n",
       "      <td>0</td>\n",
       "      <td>0</td>\n",
       "      <td>0</td>\n",
       "      <td>0</td>\n",
       "      <td>1</td>\n",
       "    </tr>\n",
       "    <tr>\n",
       "      <th>4</th>\n",
       "      <td>0</td>\n",
       "      <td>1</td>\n",
       "      <td>0</td>\n",
       "      <td>0</td>\n",
       "      <td>0</td>\n",
       "      <td>0</td>\n",
       "      <td>0</td>\n",
       "      <td>1</td>\n",
       "    </tr>\n",
       "  </tbody>\n",
       "</table>\n",
       "</div>"
      ],
      "text/plain": [
       "   cough  fever  sore_throat  shortness_of_breath  head_ache  corona_result  \\\n",
       "0      0      0            0                    0          0              0   \n",
       "1      0      1            0                    0          0              0   \n",
       "2      0      0            0                    0          0              0   \n",
       "3      0      0            0                    0          0              0   \n",
       "4      0      1            0                    0          0              0   \n",
       "\n",
       "   age_60_and_above  gender  \n",
       "0                 0       1  \n",
       "1                 0       1  \n",
       "2                 1       0  \n",
       "3                 0       1  \n",
       "4                 0       1  "
      ]
     },
     "execution_count": 37,
     "metadata": {},
     "output_type": "execute_result"
    }
   ],
   "source": [
    "data = df.copy()\n",
    "data.head()"
   ]
  },
  {
   "cell_type": "code",
   "execution_count": 38,
   "id": "29354212",
   "metadata": {},
   "outputs": [],
   "source": [
    "X = data.drop('corona_result', axis=1 )\n",
    "y = data['corona_result']"
   ]
  },
  {
   "cell_type": "code",
   "execution_count": 39,
   "id": "72535e41",
   "metadata": {},
   "outputs": [
    {
     "data": {
      "text/html": [
       "<div>\n",
       "<style scoped>\n",
       "    .dataframe tbody tr th:only-of-type {\n",
       "        vertical-align: middle;\n",
       "    }\n",
       "\n",
       "    .dataframe tbody tr th {\n",
       "        vertical-align: top;\n",
       "    }\n",
       "\n",
       "    .dataframe thead th {\n",
       "        text-align: right;\n",
       "    }\n",
       "</style>\n",
       "<table border=\"1\" class=\"dataframe\">\n",
       "  <thead>\n",
       "    <tr style=\"text-align: right;\">\n",
       "      <th></th>\n",
       "      <th>cough</th>\n",
       "      <th>fever</th>\n",
       "      <th>sore_throat</th>\n",
       "      <th>shortness_of_breath</th>\n",
       "      <th>head_ache</th>\n",
       "      <th>age_60_and_above</th>\n",
       "      <th>gender</th>\n",
       "    </tr>\n",
       "  </thead>\n",
       "  <tbody>\n",
       "    <tr>\n",
       "      <th>0</th>\n",
       "      <td>0</td>\n",
       "      <td>0</td>\n",
       "      <td>0</td>\n",
       "      <td>0</td>\n",
       "      <td>0</td>\n",
       "      <td>0</td>\n",
       "      <td>1</td>\n",
       "    </tr>\n",
       "    <tr>\n",
       "      <th>1</th>\n",
       "      <td>0</td>\n",
       "      <td>1</td>\n",
       "      <td>0</td>\n",
       "      <td>0</td>\n",
       "      <td>0</td>\n",
       "      <td>0</td>\n",
       "      <td>1</td>\n",
       "    </tr>\n",
       "    <tr>\n",
       "      <th>2</th>\n",
       "      <td>0</td>\n",
       "      <td>0</td>\n",
       "      <td>0</td>\n",
       "      <td>0</td>\n",
       "      <td>0</td>\n",
       "      <td>1</td>\n",
       "      <td>0</td>\n",
       "    </tr>\n",
       "    <tr>\n",
       "      <th>3</th>\n",
       "      <td>0</td>\n",
       "      <td>0</td>\n",
       "      <td>0</td>\n",
       "      <td>0</td>\n",
       "      <td>0</td>\n",
       "      <td>0</td>\n",
       "      <td>1</td>\n",
       "    </tr>\n",
       "    <tr>\n",
       "      <th>4</th>\n",
       "      <td>0</td>\n",
       "      <td>1</td>\n",
       "      <td>0</td>\n",
       "      <td>0</td>\n",
       "      <td>0</td>\n",
       "      <td>0</td>\n",
       "      <td>1</td>\n",
       "    </tr>\n",
       "  </tbody>\n",
       "</table>\n",
       "</div>"
      ],
      "text/plain": [
       "   cough  fever  sore_throat  shortness_of_breath  head_ache  \\\n",
       "0      0      0            0                    0          0   \n",
       "1      0      1            0                    0          0   \n",
       "2      0      0            0                    0          0   \n",
       "3      0      0            0                    0          0   \n",
       "4      0      1            0                    0          0   \n",
       "\n",
       "   age_60_and_above  gender  \n",
       "0                 0       1  \n",
       "1                 0       1  \n",
       "2                 1       0  \n",
       "3                 0       1  \n",
       "4                 0       1  "
      ]
     },
     "execution_count": 39,
     "metadata": {},
     "output_type": "execute_result"
    }
   ],
   "source": [
    "X.head()"
   ]
  },
  {
   "cell_type": "code",
   "execution_count": 40,
   "id": "5bc1195c",
   "metadata": {},
   "outputs": [
    {
     "data": {
      "text/plain": [
       "0    0\n",
       "1    0\n",
       "2    0\n",
       "3    0\n",
       "4    0\n",
       "Name: corona_result, dtype: int32"
      ]
     },
     "execution_count": 40,
     "metadata": {},
     "output_type": "execute_result"
    }
   ],
   "source": [
    "y.head()"
   ]
  },
  {
   "cell_type": "code",
   "execution_count": 41,
   "id": "2683cddd",
   "metadata": {},
   "outputs": [],
   "source": [
    "X_train,X_test,y_train,y_test = train_test_split(X,y,train_size=0.7,random_state=100) "
   ]
  },
  {
   "cell_type": "code",
   "execution_count": 42,
   "id": "4fa37c17",
   "metadata": {},
   "outputs": [
    {
     "data": {
      "text/plain": [
       "((1506328, 7), (645570, 7), (1506328,), (645570,))"
      ]
     },
     "execution_count": 42,
     "metadata": {},
     "output_type": "execute_result"
    }
   ],
   "source": [
    "X_train.shape , X_test.shape, y_train.shape, y_test.shape"
   ]
  },
  {
   "cell_type": "code",
   "execution_count": 43,
   "id": "e5faa008",
   "metadata": {},
   "outputs": [
    {
     "data": {
      "text/html": [
       "<div>\n",
       "<style scoped>\n",
       "    .dataframe tbody tr th:only-of-type {\n",
       "        vertical-align: middle;\n",
       "    }\n",
       "\n",
       "    .dataframe tbody tr th {\n",
       "        vertical-align: top;\n",
       "    }\n",
       "\n",
       "    .dataframe thead th {\n",
       "        text-align: right;\n",
       "    }\n",
       "</style>\n",
       "<table border=\"1\" class=\"dataframe\">\n",
       "  <thead>\n",
       "    <tr style=\"text-align: right;\">\n",
       "      <th></th>\n",
       "      <th>cough</th>\n",
       "      <th>fever</th>\n",
       "      <th>sore_throat</th>\n",
       "      <th>shortness_of_breath</th>\n",
       "      <th>head_ache</th>\n",
       "      <th>age_60_and_above</th>\n",
       "      <th>gender</th>\n",
       "    </tr>\n",
       "  </thead>\n",
       "  <tbody>\n",
       "    <tr>\n",
       "      <th>877204</th>\n",
       "      <td>0</td>\n",
       "      <td>0</td>\n",
       "      <td>0</td>\n",
       "      <td>0</td>\n",
       "      <td>0</td>\n",
       "      <td>0</td>\n",
       "      <td>0</td>\n",
       "    </tr>\n",
       "    <tr>\n",
       "      <th>1332919</th>\n",
       "      <td>0</td>\n",
       "      <td>0</td>\n",
       "      <td>0</td>\n",
       "      <td>0</td>\n",
       "      <td>0</td>\n",
       "      <td>0</td>\n",
       "      <td>0</td>\n",
       "    </tr>\n",
       "    <tr>\n",
       "      <th>1068309</th>\n",
       "      <td>0</td>\n",
       "      <td>0</td>\n",
       "      <td>0</td>\n",
       "      <td>0</td>\n",
       "      <td>0</td>\n",
       "      <td>0</td>\n",
       "      <td>1</td>\n",
       "    </tr>\n",
       "    <tr>\n",
       "      <th>1624073</th>\n",
       "      <td>0</td>\n",
       "      <td>0</td>\n",
       "      <td>0</td>\n",
       "      <td>0</td>\n",
       "      <td>0</td>\n",
       "      <td>0</td>\n",
       "      <td>0</td>\n",
       "    </tr>\n",
       "    <tr>\n",
       "      <th>221740</th>\n",
       "      <td>0</td>\n",
       "      <td>0</td>\n",
       "      <td>0</td>\n",
       "      <td>0</td>\n",
       "      <td>0</td>\n",
       "      <td>0</td>\n",
       "      <td>1</td>\n",
       "    </tr>\n",
       "  </tbody>\n",
       "</table>\n",
       "</div>"
      ],
      "text/plain": [
       "         cough  fever  sore_throat  shortness_of_breath  head_ache  \\\n",
       "877204       0      0            0                    0          0   \n",
       "1332919      0      0            0                    0          0   \n",
       "1068309      0      0            0                    0          0   \n",
       "1624073      0      0            0                    0          0   \n",
       "221740       0      0            0                    0          0   \n",
       "\n",
       "         age_60_and_above  gender  \n",
       "877204                  0       0  \n",
       "1332919                 0       0  \n",
       "1068309                 0       1  \n",
       "1624073                 0       0  \n",
       "221740                  0       1  "
      ]
     },
     "execution_count": 43,
     "metadata": {},
     "output_type": "execute_result"
    }
   ],
   "source": [
    "X_train.head()"
   ]
  },
  {
   "cell_type": "code",
   "execution_count": 44,
   "id": "63cf27eb",
   "metadata": {},
   "outputs": [
    {
     "data": {
      "text/plain": [
       "877204     0\n",
       "1332919    0\n",
       "1068309    0\n",
       "1624073    0\n",
       "221740     0\n",
       "Name: corona_result, dtype: int32"
      ]
     },
     "execution_count": 44,
     "metadata": {},
     "output_type": "execute_result"
    }
   ],
   "source": [
    "y_train.head()"
   ]
  },
  {
   "cell_type": "markdown",
   "id": "cd0a88c8",
   "metadata": {},
   "source": [
    "### Calculating the feature contribution to Target variable"
   ]
  },
  {
   "cell_type": "code",
   "execution_count": 45,
   "id": "b411e3c4",
   "metadata": {},
   "outputs": [
    {
     "name": "stdout",
     "output_type": "stream",
     "text": [
      "[0.13084417 0.30776837 0.1237994  0.04360942 0.38749042 0.00426801\n",
      " 0.00222021]\n"
     ]
    },
    {
     "data": {
      "image/png": "[encoded data removed]",
      "text/plain": [
       "<Figure size 432x288 with 1 Axes>"
      ]
     },
     "metadata": {
      "needs_background": "light"
     },
     "output_type": "display_data"
    }
   ],
   "source": [
    "Xt = X\n",
    "yt = y\n",
    "model = ExtraTreesClassifier()\n",
    "model.fit(Xt,yt)\n",
    "print(model.feature_importances_) \n",
    "feat_importances = pd.Series(model.feature_importances_, index=Xt.columns)\n",
    "feat_importances.nlargest(10).plot(kind='barh')\n",
    "plt.show()"
   ]
  },
  {
   "cell_type": "markdown",
   "id": "0801483e",
   "metadata": {},
   "source": [
    "1. gender, age is not much contributing to covid result.\n",
    "2. to verify which feature is significant and which is not we will be using Hypothesis testing and other feature selection technique."
   ]
  },
  {
   "cell_type": "markdown",
   "id": "730c1927",
   "metadata": {},
   "source": [
    "##### calculating the P value to check the significane of features."
   ]
  },
  {
   "cell_type": "code",
   "execution_count": 46,
   "id": "0f9955db",
   "metadata": {},
   "outputs": [],
   "source": [
    "glm = sm.GLM(y_train,(sm.add_constant(X_train)),family=sm.families.Binomial())"
   ]
  },
  {
   "cell_type": "code",
   "execution_count": 47,
   "id": "f429cf1b",
   "metadata": {},
   "outputs": [
    {
     "data": {
      "text/html": [
       "<table class=\"simpletable\">\n",
       "<caption>Generalized Linear Model Regression Results</caption>\n",
       "<tr>\n",
       "  <th>Dep. Variable:</th>     <td>corona_result</td>  <th>  No. Observations:  </th>   <td>1506328</td>  \n",
       "</tr>\n",
       "<tr>\n",
       "  <th>Model:</th>                  <td>GLM</td>       <th>  Df Residuals:      </th>   <td>1506320</td>  \n",
       "</tr>\n",
       "<tr>\n",
       "  <th>Model Family:</th>        <td>Binomial</td>     <th>  Df Model:          </th>   <td>     7</td>   \n",
       "</tr>\n",
       "<tr>\n",
       "  <th>Link Function:</th>         <td>logit</td>      <th>  Scale:             </th>  <td>  1.0000</td>  \n",
       "</tr>\n",
       "<tr>\n",
       "  <th>Method:</th>                <td>IRLS</td>       <th>  Log-Likelihood:    </th> <td>-3.9483e+05</td>\n",
       "</tr>\n",
       "<tr>\n",
       "  <th>Date:</th>            <td>Mon, 20 Dec 2021</td> <th>  Deviance:          </th> <td>7.8966e+05</td> \n",
       "</tr>\n",
       "<tr>\n",
       "  <th>Time:</th>                <td>09:34:33</td>     <th>  Pearson chi2:      </th>  <td>1.63e+06</td>  \n",
       "</tr>\n",
       "<tr>\n",
       "  <th>No. Iterations:</th>          <td>6</td>        <th>                     </th>      <td> </td>     \n",
       "</tr>\n",
       "<tr>\n",
       "  <th>Covariance Type:</th>     <td>nonrobust</td>    <th>                     </th>      <td> </td>     \n",
       "</tr>\n",
       "</table>\n",
       "<table class=\"simpletable\">\n",
       "<tr>\n",
       "           <td></td>              <th>coef</th>     <th>std err</th>      <th>z</th>      <th>P>|z|</th>  <th>[0.025</th>    <th>0.975]</th>  \n",
       "</tr>\n",
       "<tr>\n",
       "  <th>const</th>               <td>   -2.7442</td> <td>    0.005</td> <td> -566.987</td> <td> 0.000</td> <td>   -2.754</td> <td>   -2.735</td>\n",
       "</tr>\n",
       "<tr>\n",
       "  <th>cough</th>               <td>    0.9276</td> <td>    0.012</td> <td>   78.735</td> <td> 0.000</td> <td>    0.904</td> <td>    0.951</td>\n",
       "</tr>\n",
       "<tr>\n",
       "  <th>fever</th>               <td>    1.9875</td> <td>    0.011</td> <td>  175.802</td> <td> 0.000</td> <td>    1.965</td> <td>    2.010</td>\n",
       "</tr>\n",
       "<tr>\n",
       "  <th>sore_throat</th>         <td>    1.9179</td> <td>    0.021</td> <td>   90.041</td> <td> 0.000</td> <td>    1.876</td> <td>    1.960</td>\n",
       "</tr>\n",
       "<tr>\n",
       "  <th>shortness_of_breath</th> <td>    1.8082</td> <td>    0.037</td> <td>   48.839</td> <td> 0.000</td> <td>    1.736</td> <td>    1.881</td>\n",
       "</tr>\n",
       "<tr>\n",
       "  <th>head_ache</th>           <td>    2.6426</td> <td>    0.014</td> <td>  186.786</td> <td> 0.000</td> <td>    2.615</td> <td>    2.670</td>\n",
       "</tr>\n",
       "<tr>\n",
       "  <th>age_60_and_above</th>    <td>   -0.0185</td> <td>    0.009</td> <td>   -1.994</td> <td> 0.046</td> <td>   -0.037</td> <td>   -0.000</td>\n",
       "</tr>\n",
       "<tr>\n",
       "  <th>gender</th>              <td>    0.1695</td> <td>    0.006</td> <td>   27.356</td> <td> 0.000</td> <td>    0.157</td> <td>    0.182</td>\n",
       "</tr>\n",
       "</table>"
      ],
      "text/plain": [
       "<class 'statsmodels.iolib.summary.Summary'>\n",
       "\"\"\"\n",
       "                 Generalized Linear Model Regression Results                  \n",
       "==============================================================================\n",
       "Dep. Variable:          corona_result   No. Observations:              1506328\n",
       "Model:                            GLM   Df Residuals:                  1506320\n",
       "Model Family:                Binomial   Df Model:                            7\n",
       "Link Function:                  logit   Scale:                          1.0000\n",
       "Method:                          IRLS   Log-Likelihood:            -3.9483e+05\n",
       "Date:                Mon, 20 Dec 2021   Deviance:                   7.8966e+05\n",
       "Time:                        09:34:33   Pearson chi2:                 1.63e+06\n",
       "No. Iterations:                     6                                         \n",
       "Covariance Type:            nonrobust                                         \n",
       "=======================================================================================\n",
       "                          coef    std err          z      P>|z|      [0.025      0.975]\n",
       "---------------------------------------------------------------------------------------\n",
       "const                  -2.7442      0.005   -566.987      0.000      -2.754      -2.735\n",
       "cough                   0.9276      0.012     78.735      0.000       0.904       0.951\n",
       "fever                   1.9875      0.011    175.802      0.000       1.965       2.010\n",
       "sore_throat             1.9179      0.021     90.041      0.000       1.876       1.960\n",
       "shortness_of_breath     1.8082      0.037     48.839      0.000       1.736       1.881\n",
       "head_ache               2.6426      0.014    186.786      0.000       2.615       2.670\n",
       "age_60_and_above       -0.0185      0.009     -1.994      0.046      -0.037      -0.000\n",
       "gender                  0.1695      0.006     27.356      0.000       0.157       0.182\n",
       "=======================================================================================\n",
       "\"\"\""
      ]
     },
     "execution_count": 47,
     "metadata": {},
     "output_type": "execute_result"
    }
   ],
   "source": [
    "glm.fit().summary()"
   ]
  },
  {
   "cell_type": "markdown",
   "id": "7d7cd2f4",
   "metadata": {},
   "source": [
    "#### Interpretation \n",
    "1. After performing hypothesis testing by consedring p value **gender** i am on the conclusion that all features we have are significent\n",
    "\n",
    "### Hypothesis testing - \n",
    "- Null Hypothesis ==> all the features are not significent \n",
    "- Alternate Hypothesis ==> all the feature are significent\n",
    "- alpha values ==>0.05\n",
    "\n",
    "by Hypothesis testing \n",
    "\n",
    "if(p_value < alpha) then **reject Null Hypothesis**\n",
    "else **Fail to reject Null Hypothesis**\n",
    "\n",
    "                    OR\n",
    " \n",
    "if(p_value > alpha then **Fail to reject Null Hypothesis**\n",
    "else **reject Null Hypothesis**"
   ]
  },
  {
   "cell_type": "code",
   "execution_count": 48,
   "id": "ff17c4db",
   "metadata": {},
   "outputs": [],
   "source": [
    "logistic_model = LogisticRegression()"
   ]
  },
  {
   "cell_type": "code",
   "execution_count": 49,
   "id": "bdb29637",
   "metadata": {},
   "outputs": [
    {
     "data": {
      "text/plain": [
       "[('cough', True, 1),\n",
       " ('fever', True, 1),\n",
       " ('sore_throat', True, 1),\n",
       " ('shortness_of_breath', True, 1),\n",
       " ('head_ache', True, 1),\n",
       " ('age_60_and_above', False, 3),\n",
       " ('gender', False, 2)]"
      ]
     },
     "execution_count": 49,
     "metadata": {},
     "output_type": "execute_result"
    }
   ],
   "source": [
    "rfe = RFE(logistic_model,5)\n",
    "rfe.fit(X_train,y_train)\n",
    "list(zip(X_train.columns,rfe.support_,rfe.ranking_))"
   ]
  },
  {
   "cell_type": "code",
   "execution_count": 50,
   "id": "9f6ca036",
   "metadata": {},
   "outputs": [
    {
     "data": {
      "text/html": [
       "<div>\n",
       "<style scoped>\n",
       "    .dataframe tbody tr th:only-of-type {\n",
       "        vertical-align: middle;\n",
       "    }\n",
       "\n",
       "    .dataframe tbody tr th {\n",
       "        vertical-align: top;\n",
       "    }\n",
       "\n",
       "    .dataframe thead th {\n",
       "        text-align: right;\n",
       "    }\n",
       "</style>\n",
       "<table border=\"1\" class=\"dataframe\">\n",
       "  <thead>\n",
       "    <tr style=\"text-align: right;\">\n",
       "      <th></th>\n",
       "      <th>features</th>\n",
       "      <th>VIF_Score</th>\n",
       "    </tr>\n",
       "  </thead>\n",
       "  <tbody>\n",
       "    <tr>\n",
       "      <th>1</th>\n",
       "      <td>fever</td>\n",
       "      <td>1.300</td>\n",
       "    </tr>\n",
       "    <tr>\n",
       "      <th>0</th>\n",
       "      <td>cough</td>\n",
       "      <td>1.270</td>\n",
       "    </tr>\n",
       "    <tr>\n",
       "      <th>4</th>\n",
       "      <td>head_ache</td>\n",
       "      <td>1.240</td>\n",
       "    </tr>\n",
       "    <tr>\n",
       "      <th>2</th>\n",
       "      <td>sore_throat</td>\n",
       "      <td>1.160</td>\n",
       "    </tr>\n",
       "    <tr>\n",
       "      <th>6</th>\n",
       "      <td>gender</td>\n",
       "      <td>1.090</td>\n",
       "    </tr>\n",
       "    <tr>\n",
       "      <th>5</th>\n",
       "      <td>age_60_and_above</td>\n",
       "      <td>1.070</td>\n",
       "    </tr>\n",
       "    <tr>\n",
       "      <th>3</th>\n",
       "      <td>shortness_of_breath</td>\n",
       "      <td>1.060</td>\n",
       "    </tr>\n",
       "  </tbody>\n",
       "</table>\n",
       "</div>"
      ],
      "text/plain": [
       "              features  VIF_Score\n",
       "1                fever      1.300\n",
       "0                cough      1.270\n",
       "4            head_ache      1.240\n",
       "2          sore_throat      1.160\n",
       "6               gender      1.090\n",
       "5     age_60_and_above      1.070\n",
       "3  shortness_of_breath      1.060"
      ]
     },
     "execution_count": 50,
     "metadata": {},
     "output_type": "execute_result"
    }
   ],
   "source": [
    "vif = pd.DataFrame()\n",
    "Xtr = X\n",
    "vif['features'] = Xtr.columns\n",
    "vif['VIF_Score'] = [variance_inflation_factor(Xtr.values,i) for i in range(Xtr.shape[1])]\n",
    "vif['VIF_Score'] = np.round(vif['VIF_Score'],2)\n",
    "vif = vif.sort_values(by = 'VIF_Score' , ascending= False)\n",
    "vif"
   ]
  },
  {
   "cell_type": "markdown",
   "id": "98c162eb",
   "metadata": {},
   "source": [
    "#### Interpretation \n",
    "1. same interpretaion is given by RFE( recursive feature selection ) and ExtraTreeClassifier feature contribution score.\n",
    "2. if **age** feature is not contributing more we will be dropping that feature.\n",
    "3. VIF score is also in the range.\n",
    "\n",
    "#### Conclusion\n",
    "###### Feature selected-\n",
    "1. cough\n",
    "2. fever\n",
    "3. sore_throat\n",
    "4. shortness_of_breath\n",
    "5. head_ache\n",
    "6. age_60_and_above (on hold)"
   ]
  },
  {
   "cell_type": "code",
   "execution_count": 51,
   "id": "1903ea23",
   "metadata": {},
   "outputs": [
    {
     "data": {
      "text/html": [
       "<div>\n",
       "<style scoped>\n",
       "    .dataframe tbody tr th:only-of-type {\n",
       "        vertical-align: middle;\n",
       "    }\n",
       "\n",
       "    .dataframe tbody tr th {\n",
       "        vertical-align: top;\n",
       "    }\n",
       "\n",
       "    .dataframe thead th {\n",
       "        text-align: right;\n",
       "    }\n",
       "</style>\n",
       "<table border=\"1\" class=\"dataframe\">\n",
       "  <thead>\n",
       "    <tr style=\"text-align: right;\">\n",
       "      <th></th>\n",
       "      <th>cough</th>\n",
       "      <th>fever</th>\n",
       "      <th>sore_throat</th>\n",
       "      <th>shortness_of_breath</th>\n",
       "      <th>head_ache</th>\n",
       "      <th>age_60_and_above</th>\n",
       "      <th>gender</th>\n",
       "    </tr>\n",
       "  </thead>\n",
       "  <tbody>\n",
       "    <tr>\n",
       "      <th>877204</th>\n",
       "      <td>0</td>\n",
       "      <td>0</td>\n",
       "      <td>0</td>\n",
       "      <td>0</td>\n",
       "      <td>0</td>\n",
       "      <td>0</td>\n",
       "      <td>0</td>\n",
       "    </tr>\n",
       "    <tr>\n",
       "      <th>1332919</th>\n",
       "      <td>0</td>\n",
       "      <td>0</td>\n",
       "      <td>0</td>\n",
       "      <td>0</td>\n",
       "      <td>0</td>\n",
       "      <td>0</td>\n",
       "      <td>0</td>\n",
       "    </tr>\n",
       "    <tr>\n",
       "      <th>1068309</th>\n",
       "      <td>0</td>\n",
       "      <td>0</td>\n",
       "      <td>0</td>\n",
       "      <td>0</td>\n",
       "      <td>0</td>\n",
       "      <td>0</td>\n",
       "      <td>1</td>\n",
       "    </tr>\n",
       "    <tr>\n",
       "      <th>1624073</th>\n",
       "      <td>0</td>\n",
       "      <td>0</td>\n",
       "      <td>0</td>\n",
       "      <td>0</td>\n",
       "      <td>0</td>\n",
       "      <td>0</td>\n",
       "      <td>0</td>\n",
       "    </tr>\n",
       "    <tr>\n",
       "      <th>221740</th>\n",
       "      <td>0</td>\n",
       "      <td>0</td>\n",
       "      <td>0</td>\n",
       "      <td>0</td>\n",
       "      <td>0</td>\n",
       "      <td>0</td>\n",
       "      <td>1</td>\n",
       "    </tr>\n",
       "  </tbody>\n",
       "</table>\n",
       "</div>"
      ],
      "text/plain": [
       "         cough  fever  sore_throat  shortness_of_breath  head_ache  \\\n",
       "877204       0      0            0                    0          0   \n",
       "1332919      0      0            0                    0          0   \n",
       "1068309      0      0            0                    0          0   \n",
       "1624073      0      0            0                    0          0   \n",
       "221740       0      0            0                    0          0   \n",
       "\n",
       "         age_60_and_above  gender  \n",
       "877204                  0       0  \n",
       "1332919                 0       0  \n",
       "1068309                 0       1  \n",
       "1624073                 0       0  \n",
       "221740                  0       1  "
      ]
     },
     "execution_count": 51,
     "metadata": {},
     "output_type": "execute_result"
    }
   ],
   "source": [
    "X_train.head()"
   ]
  },
  {
   "cell_type": "code",
   "execution_count": 52,
   "id": "b6d1db73",
   "metadata": {},
   "outputs": [
    {
     "data": {
      "text/html": [
       "<div>\n",
       "<style scoped>\n",
       "    .dataframe tbody tr th:only-of-type {\n",
       "        vertical-align: middle;\n",
       "    }\n",
       "\n",
       "    .dataframe tbody tr th {\n",
       "        vertical-align: top;\n",
       "    }\n",
       "\n",
       "    .dataframe thead th {\n",
       "        text-align: right;\n",
       "    }\n",
       "</style>\n",
       "<table border=\"1\" class=\"dataframe\">\n",
       "  <thead>\n",
       "    <tr style=\"text-align: right;\">\n",
       "      <th></th>\n",
       "      <th>cough</th>\n",
       "      <th>fever</th>\n",
       "      <th>sore_throat</th>\n",
       "      <th>shortness_of_breath</th>\n",
       "      <th>head_ache</th>\n",
       "      <th>age_60_and_above</th>\n",
       "      <th>gender</th>\n",
       "    </tr>\n",
       "  </thead>\n",
       "  <tbody>\n",
       "    <tr>\n",
       "      <th>53079</th>\n",
       "      <td>0</td>\n",
       "      <td>0</td>\n",
       "      <td>0</td>\n",
       "      <td>0</td>\n",
       "      <td>0</td>\n",
       "      <td>0</td>\n",
       "      <td>0</td>\n",
       "    </tr>\n",
       "    <tr>\n",
       "      <th>919553</th>\n",
       "      <td>0</td>\n",
       "      <td>0</td>\n",
       "      <td>0</td>\n",
       "      <td>0</td>\n",
       "      <td>0</td>\n",
       "      <td>0</td>\n",
       "      <td>1</td>\n",
       "    </tr>\n",
       "    <tr>\n",
       "      <th>1520280</th>\n",
       "      <td>0</td>\n",
       "      <td>0</td>\n",
       "      <td>0</td>\n",
       "      <td>0</td>\n",
       "      <td>0</td>\n",
       "      <td>0</td>\n",
       "      <td>0</td>\n",
       "    </tr>\n",
       "    <tr>\n",
       "      <th>1052239</th>\n",
       "      <td>0</td>\n",
       "      <td>0</td>\n",
       "      <td>0</td>\n",
       "      <td>0</td>\n",
       "      <td>0</td>\n",
       "      <td>0</td>\n",
       "      <td>0</td>\n",
       "    </tr>\n",
       "    <tr>\n",
       "      <th>825078</th>\n",
       "      <td>0</td>\n",
       "      <td>0</td>\n",
       "      <td>0</td>\n",
       "      <td>0</td>\n",
       "      <td>0</td>\n",
       "      <td>0</td>\n",
       "      <td>0</td>\n",
       "    </tr>\n",
       "  </tbody>\n",
       "</table>\n",
       "</div>"
      ],
      "text/plain": [
       "         cough  fever  sore_throat  shortness_of_breath  head_ache  \\\n",
       "53079        0      0            0                    0          0   \n",
       "919553       0      0            0                    0          0   \n",
       "1520280      0      0            0                    0          0   \n",
       "1052239      0      0            0                    0          0   \n",
       "825078       0      0            0                    0          0   \n",
       "\n",
       "         age_60_and_above  gender  \n",
       "53079                   0       0  \n",
       "919553                  0       1  \n",
       "1520280                 0       0  \n",
       "1052239                 0       0  \n",
       "825078                  0       0  "
      ]
     },
     "execution_count": 52,
     "metadata": {},
     "output_type": "execute_result"
    }
   ],
   "source": [
    "X_test.head()"
   ]
  },
  {
   "cell_type": "code",
   "execution_count": 53,
   "id": "ee98c05d",
   "metadata": {},
   "outputs": [
    {
     "data": {
      "text/plain": [
       "877204     0\n",
       "1332919    0\n",
       "1068309    0\n",
       "1624073    0\n",
       "221740     0\n",
       "Name: corona_result, dtype: int32"
      ]
     },
     "execution_count": 53,
     "metadata": {},
     "output_type": "execute_result"
    }
   ],
   "source": [
    "y_train.head()"
   ]
  },
  {
   "cell_type": "code",
   "execution_count": 54,
   "id": "ecc1fcdd",
   "metadata": {},
   "outputs": [
    {
     "data": {
      "text/plain": [
       "53079      0\n",
       "919553     0\n",
       "1520280    0\n",
       "1052239    0\n",
       "825078     0\n",
       "Name: corona_result, dtype: int32"
      ]
     },
     "execution_count": 54,
     "metadata": {},
     "output_type": "execute_result"
    }
   ],
   "source": [
    "y_test.head()"
   ]
  },
  {
   "cell_type": "code",
   "execution_count": 55,
   "id": "95ab4223",
   "metadata": {},
   "outputs": [
    {
     "data": {
      "text/html": [
       "<div>\n",
       "<style scoped>\n",
       "    .dataframe tbody tr th:only-of-type {\n",
       "        vertical-align: middle;\n",
       "    }\n",
       "\n",
       "    .dataframe tbody tr th {\n",
       "        vertical-align: top;\n",
       "    }\n",
       "\n",
       "    .dataframe thead th {\n",
       "        text-align: right;\n",
       "    }\n",
       "</style>\n",
       "<table border=\"1\" class=\"dataframe\">\n",
       "  <thead>\n",
       "    <tr style=\"text-align: right;\">\n",
       "      <th></th>\n",
       "      <th>cough</th>\n",
       "      <th>fever</th>\n",
       "      <th>sore_throat</th>\n",
       "      <th>shortness_of_breath</th>\n",
       "      <th>head_ache</th>\n",
       "      <th>corona_result</th>\n",
       "      <th>age_60_and_above</th>\n",
       "      <th>gender</th>\n",
       "    </tr>\n",
       "  </thead>\n",
       "  <tbody>\n",
       "    <tr>\n",
       "      <th>136</th>\n",
       "      <td>0</td>\n",
       "      <td>0</td>\n",
       "      <td>0</td>\n",
       "      <td>0</td>\n",
       "      <td>0</td>\n",
       "      <td>1</td>\n",
       "      <td>1</td>\n",
       "      <td>0</td>\n",
       "    </tr>\n",
       "    <tr>\n",
       "      <th>149</th>\n",
       "      <td>0</td>\n",
       "      <td>0</td>\n",
       "      <td>0</td>\n",
       "      <td>0</td>\n",
       "      <td>0</td>\n",
       "      <td>1</td>\n",
       "      <td>0</td>\n",
       "      <td>0</td>\n",
       "    </tr>\n",
       "    <tr>\n",
       "      <th>181</th>\n",
       "      <td>0</td>\n",
       "      <td>0</td>\n",
       "      <td>0</td>\n",
       "      <td>0</td>\n",
       "      <td>0</td>\n",
       "      <td>1</td>\n",
       "      <td>0</td>\n",
       "      <td>1</td>\n",
       "    </tr>\n",
       "    <tr>\n",
       "      <th>182</th>\n",
       "      <td>0</td>\n",
       "      <td>0</td>\n",
       "      <td>0</td>\n",
       "      <td>0</td>\n",
       "      <td>0</td>\n",
       "      <td>1</td>\n",
       "      <td>0</td>\n",
       "      <td>0</td>\n",
       "    </tr>\n",
       "    <tr>\n",
       "      <th>195</th>\n",
       "      <td>1</td>\n",
       "      <td>1</td>\n",
       "      <td>0</td>\n",
       "      <td>0</td>\n",
       "      <td>0</td>\n",
       "      <td>1</td>\n",
       "      <td>1</td>\n",
       "      <td>0</td>\n",
       "    </tr>\n",
       "    <tr>\n",
       "      <th>...</th>\n",
       "      <td>...</td>\n",
       "      <td>...</td>\n",
       "      <td>...</td>\n",
       "      <td>...</td>\n",
       "      <td>...</td>\n",
       "      <td>...</td>\n",
       "      <td>...</td>\n",
       "      <td>...</td>\n",
       "    </tr>\n",
       "    <tr>\n",
       "      <th>2731622</th>\n",
       "      <td>1</td>\n",
       "      <td>0</td>\n",
       "      <td>0</td>\n",
       "      <td>1</td>\n",
       "      <td>0</td>\n",
       "      <td>1</td>\n",
       "      <td>1</td>\n",
       "      <td>0</td>\n",
       "    </tr>\n",
       "    <tr>\n",
       "      <th>2731632</th>\n",
       "      <td>1</td>\n",
       "      <td>1</td>\n",
       "      <td>0</td>\n",
       "      <td>0</td>\n",
       "      <td>0</td>\n",
       "      <td>1</td>\n",
       "      <td>0</td>\n",
       "      <td>1</td>\n",
       "    </tr>\n",
       "    <tr>\n",
       "      <th>2731633</th>\n",
       "      <td>1</td>\n",
       "      <td>1</td>\n",
       "      <td>0</td>\n",
       "      <td>0</td>\n",
       "      <td>1</td>\n",
       "      <td>1</td>\n",
       "      <td>0</td>\n",
       "      <td>1</td>\n",
       "    </tr>\n",
       "    <tr>\n",
       "      <th>2731636</th>\n",
       "      <td>1</td>\n",
       "      <td>0</td>\n",
       "      <td>0</td>\n",
       "      <td>1</td>\n",
       "      <td>1</td>\n",
       "      <td>1</td>\n",
       "      <td>0</td>\n",
       "      <td>1</td>\n",
       "    </tr>\n",
       "    <tr>\n",
       "      <th>2731639</th>\n",
       "      <td>1</td>\n",
       "      <td>1</td>\n",
       "      <td>1</td>\n",
       "      <td>1</td>\n",
       "      <td>1</td>\n",
       "      <td>1</td>\n",
       "      <td>0</td>\n",
       "      <td>0</td>\n",
       "    </tr>\n",
       "  </tbody>\n",
       "</table>\n",
       "<p>208726 rows × 8 columns</p>\n",
       "</div>"
      ],
      "text/plain": [
       "         cough  fever  sore_throat  shortness_of_breath  head_ache  \\\n",
       "136          0      0            0                    0          0   \n",
       "149          0      0            0                    0          0   \n",
       "181          0      0            0                    0          0   \n",
       "182          0      0            0                    0          0   \n",
       "195          1      1            0                    0          0   \n",
       "...        ...    ...          ...                  ...        ...   \n",
       "2731622      1      0            0                    1          0   \n",
       "2731632      1      1            0                    0          0   \n",
       "2731633      1      1            0                    0          1   \n",
       "2731636      1      0            0                    1          1   \n",
       "2731639      1      1            1                    1          1   \n",
       "\n",
       "         corona_result  age_60_and_above  gender  \n",
       "136                  1                 1       0  \n",
       "149                  1                 0       0  \n",
       "181                  1                 0       1  \n",
       "182                  1                 0       0  \n",
       "195                  1                 1       0  \n",
       "...                ...               ...     ...  \n",
       "2731622              1                 1       0  \n",
       "2731632              1                 0       1  \n",
       "2731633              1                 0       1  \n",
       "2731636              1                 0       1  \n",
       "2731639              1                 0       0  \n",
       "\n",
       "[208726 rows x 8 columns]"
      ]
     },
     "execution_count": 55,
     "metadata": {},
     "output_type": "execute_result"
    }
   ],
   "source": [
    "data[(data['corona_result']==1)]"
   ]
  }
 ],
 "metadata": {
  "kernelspec": {
   "display_name": "Python 3",
   "language": "python",
   "name": "python3"
  },
  "language_info": {
   "codemirror_mode": {
    "name": "ipython",
    "version": 3
   },
   "file_extension": ".py",
   "mimetype": "text/x-python",
   "name": "python",
   "nbconvert_exporter": "python",
   "pygments_lexer": "ipython3",
   "version": "3.8.8"
  }
 },
 "nbformat": 4,
 "nbformat_minor": 5
}
